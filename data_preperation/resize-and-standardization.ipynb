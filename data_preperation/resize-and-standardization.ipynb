{
 "cells": [
  {
   "cell_type": "code",
   "execution_count": 1,
   "id": "923778f4",
   "metadata": {
    "execution": {
     "iopub.execute_input": "2024-06-21T16:49:46.016536Z",
     "iopub.status.busy": "2024-06-21T16:49:46.016126Z",
     "iopub.status.idle": "2024-06-21T16:49:59.938754Z",
     "shell.execute_reply": "2024-06-21T16:49:59.937320Z"
    },
    "papermill": {
     "duration": 13.932112,
     "end_time": "2024-06-21T16:49:59.941591",
     "exception": false,
     "start_time": "2024-06-21T16:49:46.009479",
     "status": "completed"
    },
    "tags": []
   },
   "outputs": [
    {
     "name": "stdout",
     "output_type": "stream",
     "text": [
      "Collecting natsort\r\n",
      "  Downloading natsort-8.4.0-py3-none-any.whl.metadata (21 kB)\r\n",
      "Downloading natsort-8.4.0-py3-none-any.whl (38 kB)\r\n",
      "Installing collected packages: natsort\r\n",
      "Successfully installed natsort-8.4.0\r\n"
     ]
    }
   ],
   "source": [
    "!pip install natsort"
   ]
  },
  {
   "cell_type": "code",
   "execution_count": 2,
   "id": "04055e56",
   "metadata": {
    "execution": {
     "iopub.execute_input": "2024-06-21T16:49:59.954237Z",
     "iopub.status.busy": "2024-06-21T16:49:59.953804Z",
     "iopub.status.idle": "2024-06-21T16:50:05.082074Z",
     "shell.execute_reply": "2024-06-21T16:50:05.080906Z"
    },
    "papermill": {
     "duration": 5.137555,
     "end_time": "2024-06-21T16:50:05.084765",
     "exception": false,
     "start_time": "2024-06-21T16:49:59.947210",
     "status": "completed"
    },
    "tags": []
   },
   "outputs": [],
   "source": [
    "import pydicom\n",
    "import os\n",
    "from tqdm import tqdm\n",
    "import numpy as np\n",
    "import concurrent.futures\n",
    "import json\n",
    "from natsort import natsorted\n",
    "from pydicom.encaps import encapsulate\n",
    "from pydicom.uid import JPEG2000Lossless\n",
    "import shutil\n",
    "import random\n",
    "from sklearn.model_selection import KFold\n",
    "import torch\n",
    "import torch.nn.functional as F\n",
    "import matplotlib.pyplot as plt"
   ]
  },
  {
   "cell_type": "code",
   "execution_count": 3,
   "id": "5c74bedc",
   "metadata": {
    "execution": {
     "iopub.execute_input": "2024-06-21T16:50:05.097811Z",
     "iopub.status.busy": "2024-06-21T16:50:05.096533Z",
     "iopub.status.idle": "2024-06-21T16:50:05.101690Z",
     "shell.execute_reply": "2024-06-21T16:50:05.100639Z"
    },
    "papermill": {
     "duration": 0.013864,
     "end_time": "2024-06-21T16:50:05.104022",
     "exception": false,
     "start_time": "2024-06-21T16:50:05.090158",
     "status": "completed"
    },
    "tags": []
   },
   "outputs": [],
   "source": [
    "data_dir='/kaggle/input/rsna-2024-lumbar-spine-degenerative-classification'"
   ]
  },
  {
   "cell_type": "code",
   "execution_count": 4,
   "id": "3f0586cf",
   "metadata": {
    "execution": {
     "iopub.execute_input": "2024-06-21T16:50:05.115502Z",
     "iopub.status.busy": "2024-06-21T16:50:05.115085Z",
     "iopub.status.idle": "2024-06-21T16:50:05.120701Z",
     "shell.execute_reply": "2024-06-21T16:50:05.119568Z"
    },
    "papermill": {
     "duration": 0.014066,
     "end_time": "2024-06-21T16:50:05.122945",
     "exception": false,
     "start_time": "2024-06-21T16:50:05.108879",
     "status": "completed"
    },
    "tags": []
   },
   "outputs": [],
   "source": [
    "\n",
    "# def process_serie(patient, serie_id, data_dir):\n",
    "#     num_pix_row = []\n",
    "#     num_pix_col = []\n",
    "#     dicom_dir = f'{data_dir}/train_images/{patient}/{serie_id}'\n",
    "#     problematic_serie_ids=[]\n",
    "#     for dicom in os.listdir(dicom_dir): \n",
    "#         dicom_file = pydicom.dcmread(os.path.join(dicom_dir, dicom))\n",
    "#         num_pix_col.append(dicom_file.pixel_array.shape[1])\n",
    "#         num_pix_row.append(dicom_file.pixel_array.shape[0])\n",
    "\n",
    "\n",
    "#     x_pixel = max(num_pix_row) if max(num_pix_row) == min(num_pix_row) else 640\n",
    "#     y_pixel = max(num_pix_col) if max(num_pix_col) == min(num_pix_col) else 640\n",
    "#     dicom_len = len(os.listdir(dicom_dir))\n",
    "\n",
    "#     size = [x_pixel, y_pixel, dicom_len]\n",
    "#     size_and_serie = [serie_id, size]\n",
    "#     return size_and_serie\n",
    "\n",
    "# def process_patient(patient, data_dir):\n",
    "#     patient_dir = f'{data_dir}/train_images/{patient}'\n",
    "#     results = []\n",
    "#     for serie_id in os.listdir(patient_dir):\n",
    "#         results.append(process_serie(patient, serie_id, data_dir))\n",
    "#     return results\n",
    "\n",
    "# def main(data_dir):\n",
    "#     total_size = []\n",
    "#     with concurrent.futures.ProcessPoolExecutor() as executor:\n",
    "#         futures = [executor.submit(process_patient, patient, data_dir) for patient in os.listdir(f\"{data_dir}/train_images\")]\n",
    "#         for future in tqdm(concurrent.futures.as_completed(futures), total=len(futures)):\n",
    "#             total_size.extend(future.result())\n",
    "#     return total_size\n",
    "# data_dir='/kaggle/input/rsna-2024-lumbar-spine-degenerative-classification'\n",
    "# total_size = main(data_dir)"
   ]
  },
  {
   "cell_type": "code",
   "execution_count": 5,
   "id": "caaf59bd",
   "metadata": {
    "execution": {
     "iopub.execute_input": "2024-06-21T16:50:05.134302Z",
     "iopub.status.busy": "2024-06-21T16:50:05.133922Z",
     "iopub.status.idle": "2024-06-21T16:50:05.154543Z",
     "shell.execute_reply": "2024-06-21T16:50:05.153317Z"
    },
    "papermill": {
     "duration": 0.029269,
     "end_time": "2024-06-21T16:50:05.157078",
     "exception": false,
     "start_time": "2024-06-21T16:50:05.127809",
     "status": "completed"
    },
    "tags": []
   },
   "outputs": [],
   "source": [
    "with open('/kaggle/input/size-label/list.json', 'r') as f:\n",
    "    total_size = json.load(f)"
   ]
  },
  {
   "cell_type": "code",
   "execution_count": 6,
   "id": "2f0efab9",
   "metadata": {
    "execution": {
     "iopub.execute_input": "2024-06-21T16:50:05.168361Z",
     "iopub.status.busy": "2024-06-21T16:50:05.167962Z",
     "iopub.status.idle": "2024-06-21T16:50:05.506830Z",
     "shell.execute_reply": "2024-06-21T16:50:05.505669Z"
    },
    "papermill": {
     "duration": 0.347484,
     "end_time": "2024-06-21T16:50:05.509492",
     "exception": false,
     "start_time": "2024-06-21T16:50:05.162008",
     "status": "completed"
    },
    "tags": []
   },
   "outputs": [],
   "source": [
    "\n",
    "with open('/kaggle/input/label-coordinates/json_label_coordinates (2).json', 'r') as f:\n",
    "    label_coordinates = json.load(f)"
   ]
  },
  {
   "cell_type": "code",
   "execution_count": 7,
   "id": "1b8e6e85",
   "metadata": {
    "execution": {
     "iopub.execute_input": "2024-06-21T16:50:05.521214Z",
     "iopub.status.busy": "2024-06-21T16:50:05.520809Z",
     "iopub.status.idle": "2024-06-21T16:50:05.540009Z",
     "shell.execute_reply": "2024-06-21T16:50:05.538858Z"
    },
    "papermill": {
     "duration": 0.027992,
     "end_time": "2024-06-21T16:50:05.542637",
     "exception": false,
     "start_time": "2024-06-21T16:50:05.514645",
     "status": "completed"
    },
    "tags": []
   },
   "outputs": [],
   "source": [
    "#####important: I should refine the way to impute missing data\n",
    "\n",
    "def produce_label(serie_id,label_coordinates,total_size):\n",
    "    same_serie=0\n",
    "    for i in range(len(label_coordinates)):\n",
    "        if label_coordinates[i]['series_id']==serie_id:\n",
    "            index_1=i-1\n",
    "            index_2=i\n",
    "            same_serie=same_serie+1\n",
    "    for j in range(len((total_size))):\n",
    "        if int(total_size[j][0])==serie_id:\n",
    "            if same_serie==1:\n",
    "                            # Extracting x, y, z values\n",
    "                x_values_1 = [coord['x'] for coord in label_coordinates[index_2]['coordinates']]\n",
    "                y_values_1 = [coord['y'] for coord in label_coordinates[index_2]['coordinates']]\n",
    "                z_values_1 = [coord['z'] for coord in label_coordinates[index_2]['coordinates']]\n",
    "\n",
    "                # Handling NaN values by imputing with the mean\n",
    "                x_values_1 = [x / total_size[j][1][0] if not np.isnan(x) else np.nanmean(x_values_1) / total_size[j][1][0] for x in x_values_1]\n",
    "                y_values_1 = [y / total_size[j][1][1] if not np.isnan(y) else np.nanmean(y_values_1) / total_size[j][1][1] for y in y_values_1]\n",
    "                z_values_1 = [z / total_size[j][1][2] if not np.isnan(z) else np.nanmean(z_values_1) / total_size[j][1][2] for z in z_values_1]\n",
    "                label_1= [val for triplet in zip(x_values_1, y_values_1, z_values_1) for val in triplet]\n",
    "                label_2=[0]*15\n",
    "                label=label_1+label_2\n",
    "            elif same_serie==2:\n",
    "                x_values_1 = [coord['x'] for coord in label_coordinates[index_1]['coordinates']]\n",
    "                y_values_1 = [coord['y'] for coord in label_coordinates[index_1]['coordinates']]\n",
    "                z_values_1 = [coord['z'] for coord in label_coordinates[index_1]['coordinates']]\n",
    "                # Handling NaN values by imputing with the mean\n",
    "                x_values_1 = [x / total_size[j][1][0] if not np.isnan(x) else np.nanmean(x_values_1) / total_size[j][1][0] for x in x_values_1]\n",
    "                y_values_1 = [y / total_size[j][1][1] if not np.isnan(y) else np.nanmean(y_values_1) / total_size[j][1][1] for y in y_values_1]\n",
    "                z_values_1 = [z / total_size[j][1][2] if not np.isnan(z) else np.nanmean(z_values_1) / total_size[j][1][2] for z in z_values_1]\n",
    "                label_1= [val for triplet in zip(x_values_1, y_values_1, z_values_1) for val in triplet]\n",
    "                x_values_2 = [coord['x'] for coord in label_coordinates[index_2]['coordinates']]\n",
    "                y_values_2 = [coord['y'] for coord in label_coordinates[index_2]['coordinates']]\n",
    "                z_values_2 = [coord['z'] for coord in label_coordinates[index_2]['coordinates']]\n",
    "\n",
    "                # Handling NaN values by imputing with the mean\n",
    "                x_values_2 = [x / total_size[j][1][0] if not np.isnan(x) else np.nanmean(x_values_2) / total_size[j][1][0] for x in x_values_2]\n",
    "                y_values_2 = [y / total_size[j][1][1] if not np.isnan(y) else np.nanmean(y_values_2) / total_size[j][1][1]for y in y_values_2]\n",
    "                z_values_2 = [z / total_size[j][1][2] if not np.isnan(z) else np.nanmean(z_values_2) / total_size[j][1][2] for z in z_values_2]\n",
    "                label_2= [val for triplet in zip(x_values_2, y_values_2, z_values_2) for val in triplet]\n",
    "                label=label_1+label_2\n",
    "    return(label)\n",
    "\n",
    "        "
   ]
  },
  {
   "cell_type": "code",
   "execution_count": 8,
   "id": "b040fb2f",
   "metadata": {
    "execution": {
     "iopub.execute_input": "2024-06-21T16:50:05.554688Z",
     "iopub.status.busy": "2024-06-21T16:50:05.554193Z",
     "iopub.status.idle": "2024-06-21T16:50:05.567503Z",
     "shell.execute_reply": "2024-06-21T16:50:05.566391Z"
    },
    "papermill": {
     "duration": 0.022033,
     "end_time": "2024-06-21T16:50:05.569946",
     "exception": false,
     "start_time": "2024-06-21T16:50:05.547913",
     "status": "completed"
    },
    "tags": []
   },
   "outputs": [
    {
     "data": {
      "text/plain": [
       "list"
      ]
     },
     "execution_count": 8,
     "metadata": {},
     "output_type": "execute_result"
    }
   ],
   "source": [
    "label=produce_label(2291122880,label_coordinates,total_size)\n",
    "type(label)"
   ]
  },
  {
   "cell_type": "code",
   "execution_count": 9,
   "id": "24ed06dc",
   "metadata": {
    "execution": {
     "iopub.execute_input": "2024-06-21T16:50:05.583258Z",
     "iopub.status.busy": "2024-06-21T16:50:05.582102Z",
     "iopub.status.idle": "2024-06-21T16:50:05.589669Z",
     "shell.execute_reply": "2024-06-21T16:50:05.588155Z"
    },
    "papermill": {
     "duration": 0.016795,
     "end_time": "2024-06-21T16:50:05.592043",
     "exception": false,
     "start_time": "2024-06-21T16:50:05.575248",
     "status": "completed"
    },
    "tags": []
   },
   "outputs": [],
   "source": [
    "def standardize_dicom(patient,serie_id,data_dir):\n",
    "    dicom_files = [f for f in os.listdir(f'{data_dir}/train_images/{patient}/{serie_id}')]\n",
    "    dicom_files = natsorted(dicom_files)\n",
    "    dicom_3d=[]\n",
    "    for dicom in dicom_files:\n",
    "        dir=f'{data_dir}/train_images/{patient}/{serie_id}/{dicom}'\n",
    "        dicom_pix=pydicom.dcmread(dir).pixel_array\n",
    "        dicom_pix=dicom_pix/dicom_pix.max()\n",
    "        dicom_3d.append(dicom_pix)\n",
    "    dicom_3d=np.array(dicom_3d)\n",
    "    dicom_3d=torch.tensor(dicom_3d)\n",
    "    return(dicom_3d)"
   ]
  },
  {
   "cell_type": "code",
   "execution_count": null,
   "id": "9a8a3918",
   "metadata": {
    "papermill": {
     "duration": 0.004637,
     "end_time": "2024-06-21T16:50:05.601770",
     "exception": false,
     "start_time": "2024-06-21T16:50:05.597133",
     "status": "completed"
    },
    "tags": []
   },
   "outputs": [],
   "source": []
  },
  {
   "cell_type": "code",
   "execution_count": 10,
   "id": "68663348",
   "metadata": {
    "execution": {
     "iopub.execute_input": "2024-06-21T16:50:05.613776Z",
     "iopub.status.busy": "2024-06-21T16:50:05.613365Z",
     "iopub.status.idle": "2024-06-21T16:50:05.621995Z",
     "shell.execute_reply": "2024-06-21T16:50:05.620543Z"
    },
    "papermill": {
     "duration": 0.018606,
     "end_time": "2024-06-21T16:50:05.625598",
     "exception": false,
     "start_time": "2024-06-21T16:50:05.606992",
     "status": "completed"
    },
    "tags": []
   },
   "outputs": [],
   "source": [
    "with open('resize_standard.py', 'w') as f:\n",
    "    f.write(\"\"\"\n",
    "import pydicom\n",
    "import os\n",
    "import numpy as np\n",
    "from natsort import natsorted\n",
    "import torch\n",
    "import torch.nn.functional as F\n",
    "def standardize_dicom(patient,serie_id,data_dir):\n",
    "    dicom_files = [f for f in os.listdir(f'{data_dir}/train_images/{patient}/{serie_id}')]\n",
    "    dicom_files = natsorted(dicom_files)\n",
    "    dicom_3d=[]\n",
    "    for dicom in dicom_files:\n",
    "        dir=f'{data_dir}/train_images/{patient}/{serie_id}/{dicom}'\n",
    "        dicom_pix=pydicom.dcmread(dir).pixel_array\n",
    "        dicom_pix=dicom_pix/dicom_pix.max()\n",
    "        dicom_3d.append(dicom_pix)\n",
    "        \n",
    "    dicom_3d=np.array(dicom_3d)\n",
    "    dicom_3d=torch.tensor(dicom_3d)\n",
    "    return(dicom_3d)\n",
    "\n",
    "def produce_label(serie_id,label_coordinates,total_size):\n",
    "    same_serie=0\n",
    "    for i in range(len(label_coordinates)):\n",
    "        if label_coordinates[i]['series_id']==serie_id:\n",
    "            index_1=i-1\n",
    "            index_2=i\n",
    "            same_serie=same_serie+1\n",
    "    for j in range(len((total_size))):\n",
    "        if int(total_size[j][0])==serie_id:\n",
    "            if same_serie==1:\n",
    "                            # Extracting x, y, z values\n",
    "                x_values_1 = [coord['x'] for coord in label_coordinates[index_2]['coordinates']]\n",
    "                y_values_1 = [coord['y'] for coord in label_coordinates[index_2]['coordinates']]\n",
    "                z_values_1 = [coord['z'] for coord in label_coordinates[index_2]['coordinates']]\n",
    "\n",
    "                # Handling NaN values by imputing with the mean\n",
    "                x_values_1 = [x / total_size[j][1][0] if not np.isnan(x) else np.nanmean(x_values_1) / total_size[j][1][0] for x in x_values_1]\n",
    "                y_values_1 = [y / total_size[j][1][1] if not np.isnan(y) else np.nanmean(y_values_1) / total_size[j][1][1] for y in y_values_1]\n",
    "                z_values_1 = [z / total_size[j][1][2] if not np.isnan(z) else np.nanmean(z_values_1) / total_size[j][1][2] for z in z_values_1]\n",
    "                label_1= [val for triplet in zip(x_values_1, y_values_1, z_values_1) for val in triplet]\n",
    "                label_2=[0]*15\n",
    "                label=label_1+label_2\n",
    "            elif same_serie==2:\n",
    "                x_values_1 = [coord['x'] for coord in label_coordinates[index_1]['coordinates']]\n",
    "                y_values_1 = [coord['y'] for coord in label_coordinates[index_1]['coordinates']]\n",
    "                z_values_1 = [coord['z'] for coord in label_coordinates[index_1]['coordinates']]\n",
    "                # Handling NaN values by imputing with the mean\n",
    "                x_values_1 = [x / total_size[j][1][0] if not np.isnan(x) else np.nanmean(x_values_1) / total_size[j][1][0] for x in x_values_1]\n",
    "                y_values_1 = [y / total_size[j][1][1] if not np.isnan(y) else np.nanmean(y_values_1) / total_size[j][1][1] for y in y_values_1]\n",
    "                z_values_1 = [z / total_size[j][1][2] if not np.isnan(z) else np.nanmean(z_values_1) / total_size[j][1][2] for z in z_values_1]\n",
    "                label_1= [val for triplet in zip(x_values_1, y_values_1, z_values_1) for val in triplet]\n",
    "                x_values_2 = [coord['x'] for coord in label_coordinates[index_2]['coordinates']]\n",
    "                y_values_2 = [coord['y'] for coord in label_coordinates[index_2]['coordinates']]\n",
    "                z_values_2 = [coord['z'] for coord in label_coordinates[index_2]['coordinates']]\n",
    "\n",
    "                # Handling NaN values by imputing with the mean\n",
    "                x_values_2 = [x / total_size[j][1][0] if not np.isnan(x) else np.nanmean(x_values_2) / total_size[j][1][0] for x in x_values_2]\n",
    "                y_values_2 = [y / total_size[j][1][1] if not np.isnan(y) else np.nanmean(y_values_2) / total_size[j][1][1]for y in y_values_2]\n",
    "                z_values_2 = [z / total_size[j][1][2] if not np.isnan(z) else np.nanmean(z_values_2) / total_size[j][1][2] for z in z_values_2]\n",
    "                label_2= [val for triplet in zip(x_values_2, y_values_2, z_values_2) for val in triplet]\n",
    "                label=label_1+label_2\n",
    "    return(label)\n",
    "\n",
    "def resize(dicom_3d,new_shape=(25, 600, 600)):\n",
    "    dicom_3d=dicom_3d.unsqueeze(0)\n",
    "    dicom_3d=dicom_3d.unsqueeze(0)\n",
    "\n",
    "    resized_tensor_trilinear = F.interpolate(dicom_3d, new_shape, mode='trilinear', align_corners=False)\n",
    "    return(resized_tensor_trilinear)\n",
    "\n",
    "\"\"\")"
   ]
  },
  {
   "cell_type": "code",
   "execution_count": 11,
   "id": "365e3552",
   "metadata": {
    "execution": {
     "iopub.execute_input": "2024-06-21T16:50:05.637857Z",
     "iopub.status.busy": "2024-06-21T16:50:05.637049Z",
     "iopub.status.idle": "2024-06-21T16:50:06.110882Z",
     "shell.execute_reply": "2024-06-21T16:50:06.109772Z"
    },
    "papermill": {
     "duration": 0.483011,
     "end_time": "2024-06-21T16:50:06.113768",
     "exception": false,
     "start_time": "2024-06-21T16:50:05.630757",
     "status": "completed"
    },
    "tags": []
   },
   "outputs": [
    {
     "name": "stdout",
     "output_type": "stream",
     "text": [
      "tensor([[[0.0000, 0.0051, 0.0034,  ..., 0.0060, 0.0051, 0.0086],\n",
      "         [0.0000, 0.0026, 0.0111,  ..., 0.0402, 0.0445, 0.0368],\n",
      "         [0.0000, 0.0026, 0.0291,  ..., 0.0488, 0.0445, 0.0308],\n",
      "         ...,\n",
      "         [0.0000, 0.0000, 0.0000,  ..., 0.0000, 0.0000, 0.0000],\n",
      "         [0.0000, 0.0000, 0.0000,  ..., 0.0000, 0.0000, 0.0000],\n",
      "         [0.0000, 0.0000, 0.0000,  ..., 0.0000, 0.0000, 0.0000]],\n",
      "\n",
      "        [[0.0000, 0.0068, 0.0049,  ..., 0.0456, 0.0330, 0.0165],\n",
      "         [0.0000, 0.0039, 0.0398,  ..., 0.1437, 0.1117, 0.1252],\n",
      "         [0.0000, 0.0019, 0.0456,  ..., 0.1466, 0.1311, 0.1301],\n",
      "         ...,\n",
      "         [0.0000, 0.0000, 0.0000,  ..., 0.0000, 0.0000, 0.0000],\n",
      "         [0.0000, 0.0000, 0.0000,  ..., 0.0000, 0.0000, 0.0000],\n",
      "         [0.0000, 0.0000, 0.0000,  ..., 0.0000, 0.0000, 0.0000]],\n",
      "\n",
      "        [[0.0000, 0.0074, 0.0041,  ..., 0.0215, 0.0173, 0.0157],\n",
      "         [0.0000, 0.0099, 0.0438,  ..., 0.0710, 0.0495, 0.0454],\n",
      "         [0.0000, 0.0091, 0.0231,  ..., 0.0636, 0.0438, 0.0520],\n",
      "         ...,\n",
      "         [0.0000, 0.0000, 0.0000,  ..., 0.0000, 0.0000, 0.0000],\n",
      "         [0.0000, 0.0000, 0.0000,  ..., 0.0000, 0.0000, 0.0000],\n",
      "         [0.0000, 0.0000, 0.0000,  ..., 0.0000, 0.0000, 0.0000]],\n",
      "\n",
      "        ...,\n",
      "\n",
      "        [[0.0000, 0.0040, 0.0024,  ..., 0.0024, 0.0024, 0.0024],\n",
      "         [0.0000, 0.0016, 0.0186,  ..., 0.0024, 0.0008, 0.0032],\n",
      "         [0.0000, 0.0016, 0.0259,  ..., 0.0186, 0.0372, 0.0469],\n",
      "         ...,\n",
      "         [0.0000, 0.0000, 0.0000,  ..., 0.0000, 0.0000, 0.0000],\n",
      "         [0.0000, 0.0000, 0.0000,  ..., 0.0000, 0.0000, 0.0000],\n",
      "         [0.0000, 0.0000, 0.0000,  ..., 0.0000, 0.0000, 0.0000]],\n",
      "\n",
      "        [[0.0000, 0.0034, 0.0043,  ..., 0.0026, 0.0026, 0.0017],\n",
      "         [0.0000, 0.0017, 0.0221,  ..., 0.0009, 0.0017, 0.0026],\n",
      "         [0.0000, 0.0017, 0.0119,  ..., 0.0204, 0.0238, 0.0289],\n",
      "         ...,\n",
      "         [0.0000, 0.0000, 0.0000,  ..., 0.0000, 0.0000, 0.0000],\n",
      "         [0.0000, 0.0000, 0.0000,  ..., 0.0000, 0.0000, 0.0000],\n",
      "         [0.0000, 0.0000, 0.0000,  ..., 0.0000, 0.0000, 0.0000]],\n",
      "\n",
      "        [[0.0000, 0.0034, 0.0027,  ..., 0.0027, 0.0027, 0.0021],\n",
      "         [0.0000, 0.0021, 0.0172,  ..., 0.0021, 0.0007, 0.0034],\n",
      "         [0.0000, 0.0014, 0.0185,  ..., 0.0089, 0.0213, 0.0350],\n",
      "         ...,\n",
      "         [0.0000, 0.0000, 0.0000,  ..., 0.0000, 0.0000, 0.0000],\n",
      "         [0.0000, 0.0000, 0.0000,  ..., 0.0000, 0.0000, 0.0000],\n",
      "         [0.0000, 0.0000, 0.0000,  ..., 0.0000, 0.0000, 0.0000]]],\n",
      "       dtype=torch.float64)\n"
     ]
    }
   ],
   "source": [
    "dicom_3d=standardize_dicom(3343942613,4231470556,data_dir)\n",
    "print(dicom_3d)"
   ]
  },
  {
   "cell_type": "code",
   "execution_count": 12,
   "id": "2cdb4bde",
   "metadata": {
    "execution": {
     "iopub.execute_input": "2024-06-21T16:50:06.125912Z",
     "iopub.status.busy": "2024-06-21T16:50:06.125089Z",
     "iopub.status.idle": "2024-06-21T16:50:06.131155Z",
     "shell.execute_reply": "2024-06-21T16:50:06.130092Z"
    },
    "papermill": {
     "duration": 0.014442,
     "end_time": "2024-06-21T16:50:06.133391",
     "exception": false,
     "start_time": "2024-06-21T16:50:06.118949",
     "status": "completed"
    },
    "tags": []
   },
   "outputs": [],
   "source": [
    "def resize(dicom_3d,new_shape=(25, 600, 600)):\n",
    "    dicom_3d=dicom_3d.unsqueeze(0)\n",
    "    dicom_3d=dicom_3d.unsqueeze(0)\n",
    "\n",
    "    resized_tensor_trilinear = F.interpolate(dicom_3d, new_shape, mode='trilinear', align_corners=False)\n",
    "    return(resized_tensor_trilinear)"
   ]
  },
  {
   "cell_type": "code",
   "execution_count": 13,
   "id": "10680871",
   "metadata": {
    "execution": {
     "iopub.execute_input": "2024-06-21T16:50:06.144890Z",
     "iopub.status.busy": "2024-06-21T16:50:06.144539Z",
     "iopub.status.idle": "2024-06-21T16:50:06.440316Z",
     "shell.execute_reply": "2024-06-21T16:50:06.439224Z"
    },
    "papermill": {
     "duration": 0.304385,
     "end_time": "2024-06-21T16:50:06.442858",
     "exception": false,
     "start_time": "2024-06-21T16:50:06.138473",
     "status": "completed"
    },
    "tags": []
   },
   "outputs": [],
   "source": [
    "dicom_3dd=standardize_dicom(1004726367,1709080005,data_dir)"
   ]
  },
  {
   "cell_type": "code",
   "execution_count": 14,
   "id": "f40f1613",
   "metadata": {
    "execution": {
     "iopub.execute_input": "2024-06-21T16:50:06.455321Z",
     "iopub.status.busy": "2024-06-21T16:50:06.454913Z",
     "iopub.status.idle": "2024-06-21T16:50:07.014780Z",
     "shell.execute_reply": "2024-06-21T16:50:07.013679Z"
    },
    "papermill": {
     "duration": 0.569068,
     "end_time": "2024-06-21T16:50:07.017498",
     "exception": false,
     "start_time": "2024-06-21T16:50:06.448430",
     "status": "completed"
    },
    "tags": []
   },
   "outputs": [],
   "source": [
    "dicom_3dd=standardize_dicom(1004726367,2526352865,data_dir)\n",
    "akbar_agha=resize(dicom_3dd)"
   ]
  },
  {
   "cell_type": "code",
   "execution_count": null,
   "id": "a976fbb7",
   "metadata": {
    "papermill": {
     "duration": 0.004715,
     "end_time": "2024-06-21T16:50:07.027435",
     "exception": false,
     "start_time": "2024-06-21T16:50:07.022720",
     "status": "completed"
    },
    "tags": []
   },
   "outputs": [],
   "source": []
  }
 ],
 "metadata": {
  "kaggle": {
   "accelerator": "none",
   "dataSources": [
    {
     "databundleVersionId": 8561470,
     "sourceId": 71549,
     "sourceType": "competition"
    },
    {
     "datasetId": 5248381,
     "sourceId": 8741514,
     "sourceType": "datasetVersion"
    },
    {
     "datasetId": 5248386,
     "sourceId": 8741521,
     "sourceType": "datasetVersion"
    }
   ],
   "dockerImageVersionId": 30734,
   "isGpuEnabled": false,
   "isInternetEnabled": true,
   "language": "python",
   "sourceType": "notebook"
  },
  "kernelspec": {
   "display_name": "Python 3",
   "language": "python",
   "name": "python3"
  },
  "language_info": {
   "codemirror_mode": {
    "name": "ipython",
    "version": 3
   },
   "file_extension": ".py",
   "mimetype": "text/x-python",
   "name": "python",
   "nbconvert_exporter": "python",
   "pygments_lexer": "ipython3",
   "version": "3.10.13"
  },
  "papermill": {
   "default_parameters": {},
   "duration": 24.926562,
   "end_time": "2024-06-21T16:50:08.055293",
   "environment_variables": {},
   "exception": null,
   "input_path": "__notebook__.ipynb",
   "output_path": "__notebook__.ipynb",
   "parameters": {},
   "start_time": "2024-06-21T16:49:43.128731",
   "version": "2.5.0"
  }
 },
 "nbformat": 4,
 "nbformat_minor": 5
}
