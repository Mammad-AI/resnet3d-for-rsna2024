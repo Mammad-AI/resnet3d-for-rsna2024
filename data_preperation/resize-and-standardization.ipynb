{
 "cells": [
  {
   "cell_type": "code",
   "execution_count": 1,
   "id": "5f771008",
   "metadata": {
    "execution": {
     "iopub.execute_input": "2024-06-21T22:02:49.836920Z",
     "iopub.status.busy": "2024-06-21T22:02:49.836363Z",
     "iopub.status.idle": "2024-06-21T22:03:08.904813Z",
     "shell.execute_reply": "2024-06-21T22:03:08.903105Z"
    },
    "papermill": {
     "duration": 19.080257,
     "end_time": "2024-06-21T22:03:08.908173",
     "exception": false,
     "start_time": "2024-06-21T22:02:49.827916",
     "status": "completed"
    },
    "tags": []
   },
   "outputs": [
    {
     "name": "stdout",
     "output_type": "stream",
     "text": [
      "Collecting natsort\r\n",
      "  Downloading natsort-8.4.0-py3-none-any.whl.metadata (21 kB)\r\n",
      "Downloading natsort-8.4.0-py3-none-any.whl (38 kB)\r\n",
      "Installing collected packages: natsort\r\n",
      "Successfully installed natsort-8.4.0\r\n"
     ]
    }
   ],
   "source": [
    "!pip install natsort"
   ]
  },
  {
   "cell_type": "code",
   "execution_count": 2,
   "id": "545efd67",
   "metadata": {
    "execution": {
     "iopub.execute_input": "2024-06-21T22:03:08.925742Z",
     "iopub.status.busy": "2024-06-21T22:03:08.925162Z",
     "iopub.status.idle": "2024-06-21T22:03:16.347245Z",
     "shell.execute_reply": "2024-06-21T22:03:16.345207Z"
    },
    "papermill": {
     "duration": 7.435438,
     "end_time": "2024-06-21T22:03:16.350731",
     "exception": false,
     "start_time": "2024-06-21T22:03:08.915293",
     "status": "completed"
    },
    "tags": []
   },
   "outputs": [],
   "source": [
    "import pydicom\n",
    "import os\n",
    "from tqdm import tqdm\n",
    "import numpy as np\n",
    "import concurrent.futures\n",
    "import json\n",
    "from natsort import natsorted\n",
    "from pydicom.encaps import encapsulate\n",
    "from pydicom.uid import JPEG2000Lossless\n",
    "import shutil\n",
    "import random\n",
    "from sklearn.model_selection import KFold\n",
    "import torch\n",
    "import torch.nn.functional as F\n",
    "import matplotlib.pyplot as plt"
   ]
  },
  {
   "cell_type": "code",
   "execution_count": 3,
   "id": "a200a240",
   "metadata": {
    "execution": {
     "iopub.execute_input": "2024-06-21T22:03:16.367421Z",
     "iopub.status.busy": "2024-06-21T22:03:16.366715Z",
     "iopub.status.idle": "2024-06-21T22:03:16.373759Z",
     "shell.execute_reply": "2024-06-21T22:03:16.372235Z"
    },
    "papermill": {
     "duration": 0.019023,
     "end_time": "2024-06-21T22:03:16.376783",
     "exception": false,
     "start_time": "2024-06-21T22:03:16.357760",
     "status": "completed"
    },
    "tags": []
   },
   "outputs": [],
   "source": [
    "data_dir='/kaggle/input/rsna-2024-lumbar-spine-degenerative-classification'"
   ]
  },
  {
   "cell_type": "code",
   "execution_count": 4,
   "id": "c086a60b",
   "metadata": {
    "execution": {
     "iopub.execute_input": "2024-06-21T22:03:16.395237Z",
     "iopub.status.busy": "2024-06-21T22:03:16.394656Z",
     "iopub.status.idle": "2024-06-21T22:03:16.402298Z",
     "shell.execute_reply": "2024-06-21T22:03:16.400908Z"
    },
    "papermill": {
     "duration": 0.021926,
     "end_time": "2024-06-21T22:03:16.405589",
     "exception": false,
     "start_time": "2024-06-21T22:03:16.383663",
     "status": "completed"
    },
    "tags": []
   },
   "outputs": [],
   "source": [
    "\n",
    "# def process_serie(patient, serie_id, data_dir):\n",
    "#     num_pix_row = []\n",
    "#     num_pix_col = []\n",
    "#     dicom_dir = f'{data_dir}/train_images/{patient}/{serie_id}'\n",
    "#     problematic_serie_ids=[]\n",
    "#     for dicom in os.listdir(dicom_dir): \n",
    "#         dicom_file = pydicom.dcmread(os.path.join(dicom_dir, dicom))\n",
    "#         num_pix_col.append(dicom_file.pixel_array.shape[1])\n",
    "#         num_pix_row.append(dicom_file.pixel_array.shape[0])\n",
    "\n",
    "\n",
    "#     x_pixel = max(num_pix_row) if max(num_pix_row) == min(num_pix_row) else 640\n",
    "#     y_pixel = max(num_pix_col) if max(num_pix_col) == min(num_pix_col) else 640\n",
    "#     dicom_len = len(os.listdir(dicom_dir))\n",
    "\n",
    "#     size = [x_pixel, y_pixel, dicom_len]\n",
    "#     size_and_serie = [serie_id, size]\n",
    "#     return size_and_serie\n",
    "\n",
    "# def process_patient(patient, data_dir):\n",
    "#     patient_dir = f'{data_dir}/train_images/{patient}'\n",
    "#     results = []\n",
    "#     for serie_id in os.listdir(patient_dir):\n",
    "#         results.append(process_serie(patient, serie_id, data_dir))\n",
    "#     return results\n",
    "\n",
    "# def main(data_dir):\n",
    "#     total_size = []\n",
    "#     with concurrent.futures.ProcessPoolExecutor() as executor:\n",
    "#         futures = [executor.submit(process_patient, patient, data_dir) for patient in os.listdir(f\"{data_dir}/train_images\")]\n",
    "#         for future in tqdm(concurrent.futures.as_completed(futures), total=len(futures)):\n",
    "#             total_size.extend(future.result())\n",
    "#     return total_size\n",
    "# data_dir='/kaggle/input/rsna-2024-lumbar-spine-degenerative-classification'\n",
    "# total_size = main(data_dir)"
   ]
  },
  {
   "cell_type": "code",
   "execution_count": 5,
   "id": "2933dcdb",
   "metadata": {
    "execution": {
     "iopub.execute_input": "2024-06-21T22:03:16.422103Z",
     "iopub.status.busy": "2024-06-21T22:03:16.421593Z",
     "iopub.status.idle": "2024-06-21T22:03:16.451431Z",
     "shell.execute_reply": "2024-06-21T22:03:16.449794Z"
    },
    "papermill": {
     "duration": 0.04248,
     "end_time": "2024-06-21T22:03:16.454971",
     "exception": false,
     "start_time": "2024-06-21T22:03:16.412491",
     "status": "completed"
    },
    "tags": []
   },
   "outputs": [],
   "source": [
    "with open('/kaggle/input/size-label/list.json', 'r') as f:\n",
    "    total_size = json.load(f)"
   ]
  },
  {
   "cell_type": "code",
   "execution_count": 6,
   "id": "e4a49d7a",
   "metadata": {
    "execution": {
     "iopub.execute_input": "2024-06-21T22:03:16.473252Z",
     "iopub.status.busy": "2024-06-21T22:03:16.472137Z",
     "iopub.status.idle": "2024-06-21T22:03:16.961816Z",
     "shell.execute_reply": "2024-06-21T22:03:16.959726Z"
    },
    "papermill": {
     "duration": 0.504364,
     "end_time": "2024-06-21T22:03:16.966504",
     "exception": false,
     "start_time": "2024-06-21T22:03:16.462140",
     "status": "completed"
    },
    "tags": []
   },
   "outputs": [],
   "source": [
    "\n",
    "with open('/kaggle/input/label-coordinates/json_label_coordinates (2).json', 'r') as f:\n",
    "    label_coordinates = json.load(f)"
   ]
  },
  {
   "cell_type": "code",
   "execution_count": 7,
   "id": "4ef500fb",
   "metadata": {
    "execution": {
     "iopub.execute_input": "2024-06-21T22:03:16.983770Z",
     "iopub.status.busy": "2024-06-21T22:03:16.983300Z",
     "iopub.status.idle": "2024-06-21T22:03:17.011799Z",
     "shell.execute_reply": "2024-06-21T22:03:17.009674Z"
    },
    "papermill": {
     "duration": 0.041771,
     "end_time": "2024-06-21T22:03:17.015733",
     "exception": false,
     "start_time": "2024-06-21T22:03:16.973962",
     "status": "completed"
    },
    "tags": []
   },
   "outputs": [],
   "source": [
    "#####important: I should refine the way to impute missing data\n",
    "\n",
    "def produce_label(serie_id,label_coordinates,total_size):\n",
    "    same_serie=0\n",
    "    for i in range(len(label_coordinates)):\n",
    "        if label_coordinates[i]['series_id']==serie_id:\n",
    "            index_1=i-1\n",
    "            index_2=i\n",
    "            same_serie=same_serie+1\n",
    "    for j in range(len((total_size))):\n",
    "        if int(total_size[j][0])==serie_id:\n",
    "            if same_serie==1:\n",
    "                            # Extracting x, y, z values\n",
    "                x_values_1 = [coord['x'] for coord in label_coordinates[index_2]['coordinates']]\n",
    "                y_values_1 = [coord['y'] for coord in label_coordinates[index_2]['coordinates']]\n",
    "                z_values_1 = [coord['z'] for coord in label_coordinates[index_2]['coordinates']]\n",
    "\n",
    "                # Handling NaN values by imputing with the mean\n",
    "                x_values_1 = [x / total_size[j][1][0] if not np.isnan(x) else np.nanmean(x_values_1) / total_size[j][1][0] for x in x_values_1]\n",
    "                y_values_1 = [y / total_size[j][1][1] if not np.isnan(y) else np.nanmean(y_values_1) / total_size[j][1][1] for y in y_values_1]\n",
    "                z_values_1 = [z / total_size[j][1][2] if not np.isnan(z) else np.nanmean(z_values_1) / total_size[j][1][2] for z in z_values_1]\n",
    "                label_1= [val for triplet in zip(x_values_1, y_values_1, z_values_1) for val in triplet]\n",
    "                label_2=[0]*15\n",
    "                label=label_1+label_2\n",
    "            elif same_serie==2:\n",
    "                x_values_1 = [coord['x'] for coord in label_coordinates[index_1]['coordinates']]\n",
    "                y_values_1 = [coord['y'] for coord in label_coordinates[index_1]['coordinates']]\n",
    "                z_values_1 = [coord['z'] for coord in label_coordinates[index_1]['coordinates']]\n",
    "                # Handling NaN values by imputing with the mean\n",
    "                x_values_1 = [x / total_size[j][1][0] if not np.isnan(x) else np.nanmean(x_values_1) / total_size[j][1][0] for x in x_values_1]\n",
    "                y_values_1 = [y / total_size[j][1][1] if not np.isnan(y) else np.nanmean(y_values_1) / total_size[j][1][1] for y in y_values_1]\n",
    "                z_values_1 = [z / total_size[j][1][2] if not np.isnan(z) else np.nanmean(z_values_1) / total_size[j][1][2] for z in z_values_1]\n",
    "                label_1= [val for triplet in zip(x_values_1, y_values_1, z_values_1) for val in triplet]\n",
    "                x_values_2 = [coord['x'] for coord in label_coordinates[index_2]['coordinates']]\n",
    "                y_values_2 = [coord['y'] for coord in label_coordinates[index_2]['coordinates']]\n",
    "                z_values_2 = [coord['z'] for coord in label_coordinates[index_2]['coordinates']]\n",
    "\n",
    "                # Handling NaN values by imputing with the mean\n",
    "                x_values_2 = [x / total_size[j][1][0] if not np.isnan(x) else np.nanmean(x_values_2) / total_size[j][1][0] for x in x_values_2]\n",
    "                y_values_2 = [y / total_size[j][1][1] if not np.isnan(y) else np.nanmean(y_values_2) / total_size[j][1][1]for y in y_values_2]\n",
    "                z_values_2 = [z / total_size[j][1][2] if not np.isnan(z) else np.nanmean(z_values_2) / total_size[j][1][2] for z in z_values_2]\n",
    "                label_2= [val for triplet in zip(x_values_2, y_values_2, z_values_2) for val in triplet]\n",
    "                label=label_1+label_2\n",
    "    return(label)\n",
    "\n",
    "        "
   ]
  },
  {
   "cell_type": "code",
   "execution_count": 8,
   "id": "abbc8009",
   "metadata": {
    "execution": {
     "iopub.execute_input": "2024-06-21T22:03:17.033180Z",
     "iopub.status.busy": "2024-06-21T22:03:17.032729Z",
     "iopub.status.idle": "2024-06-21T22:03:23.222928Z",
     "shell.execute_reply": "2024-06-21T22:03:23.221673Z"
    },
    "papermill": {
     "duration": 6.203329,
     "end_time": "2024-06-21T22:03:23.226166",
     "exception": false,
     "start_time": "2024-06-21T22:03:17.022837",
     "status": "completed"
    },
    "tags": []
   },
   "outputs": [],
   "source": [
    "serie_pat_list=[]\n",
    "for i in os.listdir(f'{data_dir}/train_images'):\n",
    "    for j in os.listdir(f'{data_dir}/train_images/{i}'):\n",
    "        new_list=[i,j]\n",
    "        serie_pat_list.append(new_list)\n",
    "    "
   ]
  },
  {
   "cell_type": "code",
   "execution_count": 9,
   "id": "2034de36",
   "metadata": {
    "execution": {
     "iopub.execute_input": "2024-06-21T22:03:23.243786Z",
     "iopub.status.busy": "2024-06-21T22:03:23.243281Z",
     "iopub.status.idle": "2024-06-21T22:03:23.251991Z",
     "shell.execute_reply": "2024-06-21T22:03:23.250556Z"
    },
    "papermill": {
     "duration": 0.020409,
     "end_time": "2024-06-21T22:03:23.254732",
     "exception": false,
     "start_time": "2024-06-21T22:03:23.234323",
     "status": "completed"
    },
    "tags": []
   },
   "outputs": [],
   "source": [
    "serie_list=[]\n",
    "for j in range(len(serie_pat_list)):\n",
    "    serie_list.append(serie_pat_list[j][1])"
   ]
  },
  {
   "cell_type": "code",
   "execution_count": 10,
   "id": "e716e91f",
   "metadata": {
    "execution": {
     "iopub.execute_input": "2024-06-21T22:03:23.271020Z",
     "iopub.status.busy": "2024-06-21T22:03:23.270400Z",
     "iopub.status.idle": "2024-06-21T22:03:23.280832Z",
     "shell.execute_reply": "2024-06-21T22:03:23.279426Z"
    },
    "papermill": {
     "duration": 0.022286,
     "end_time": "2024-06-21T22:03:23.283943",
     "exception": false,
     "start_time": "2024-06-21T22:03:23.261657",
     "status": "completed"
    },
    "tags": []
   },
   "outputs": [],
   "source": [
    "def standardize_dicom(serie_pat_list,serie_id,data_dir):\n",
    "    for j in range(len(serie_pat_list)):\n",
    "        if serie_pat_list[j][1]==serie_id:\n",
    "            patient=serie_pat_list[j][0]\n",
    "\n",
    "    dicom_files = [f for f in os.listdir(f'{data_dir}/train_images/{patient}/{serie_id}')]\n",
    "    dicom_files = natsorted(dicom_files)\n",
    "    dicom_3d=[]\n",
    "    for dicom in dicom_files:\n",
    "        dir=f'{data_dir}/train_images/{patient}/{serie_id}/{dicom}'\n",
    "        dicom_pix=pydicom.dcmread(dir).pixel_array\n",
    "        dicom_pix=dicom_pix/dicom_pix.max()\n",
    "        dicom_3d.append(dicom_pix)\n",
    "    dicom_3d=np.array(dicom_3d)\n",
    "    dicom_3d=torch.tensor(dicom_3d)\n",
    "    return(dicom_3d)"
   ]
  },
  {
   "cell_type": "code",
   "execution_count": 11,
   "id": "fd584453",
   "metadata": {
    "execution": {
     "iopub.execute_input": "2024-06-21T22:03:23.300717Z",
     "iopub.status.busy": "2024-06-21T22:03:23.299873Z",
     "iopub.status.idle": "2024-06-21T22:03:23.312825Z",
     "shell.execute_reply": "2024-06-21T22:03:23.311181Z"
    },
    "papermill": {
     "duration": 0.025266,
     "end_time": "2024-06-21T22:03:23.316214",
     "exception": false,
     "start_time": "2024-06-21T22:03:23.290948",
     "status": "completed"
    },
    "tags": []
   },
   "outputs": [],
   "source": [
    "with open('resize_standard.py', 'w') as f:\n",
    "    f.write(\"\"\"\n",
    "import pydicom\n",
    "import os\n",
    "import numpy as np\n",
    "from natsort import natsorted\n",
    "import torch\n",
    "import torch.nn.functional as F\n",
    "def standardize_dicom(serie_pat_list,serie_id,data_dir):\n",
    "    for j in range(len(serie_pat_list)):\n",
    "        if serie_pat_list[j][1]==serie_id:\n",
    "            patient=serie_pat_list[j][0]\n",
    "\n",
    "    dicom_files = [f for f in os.listdir(f'{data_dir}/train_images/{patient}/{serie_id}')]\n",
    "    dicom_files = natsorted(dicom_files)\n",
    "    dicom_3d=[]\n",
    "    for dicom in dicom_files:\n",
    "        dir=f'{data_dir}/train_images/{patient}/{serie_id}/{dicom}'\n",
    "        dicom_pix=pydicom.dcmread(dir).pixel_array\n",
    "        dicom_pix=dicom_pix/dicom_pix.max()\n",
    "        dicom_3d.append(dicom_pix)\n",
    "    dicom_3d=np.array(dicom_3d)\n",
    "    dicom_3d=torch.tensor(dicom_3d)\n",
    "    return(dicom_3d)\n",
    "\n",
    "def produce_label(serie_id,label_coordinates,total_size):\n",
    "    same_serie=0\n",
    "    for i in range(len(label_coordinates)):\n",
    "        if label_coordinates[i]['series_id']==serie_id:\n",
    "            index_1=i-1\n",
    "            index_2=i\n",
    "            same_serie=same_serie+1\n",
    "    for j in range(len((total_size))):\n",
    "        if int(total_size[j][0])==serie_id:\n",
    "            if same_serie==1:\n",
    "                            # Extracting x, y, z values\n",
    "                x_values_1 = [coord['x'] for coord in label_coordinates[index_2]['coordinates']]\n",
    "                y_values_1 = [coord['y'] for coord in label_coordinates[index_2]['coordinates']]\n",
    "                z_values_1 = [coord['z'] for coord in label_coordinates[index_2]['coordinates']]\n",
    "\n",
    "                # Handling NaN values by imputing with the mean\n",
    "                x_values_1 = [x / total_size[j][1][0] if not np.isnan(x) else np.nanmean(x_values_1) / total_size[j][1][0] for x in x_values_1]\n",
    "                y_values_1 = [y / total_size[j][1][1] if not np.isnan(y) else np.nanmean(y_values_1) / total_size[j][1][1] for y in y_values_1]\n",
    "                z_values_1 = [z / total_size[j][1][2] if not np.isnan(z) else np.nanmean(z_values_1) / total_size[j][1][2] for z in z_values_1]\n",
    "                label_1= [val for triplet in zip(x_values_1, y_values_1, z_values_1) for val in triplet]\n",
    "                label_2=[0]*15\n",
    "                label=label_1+label_2\n",
    "            elif same_serie==2:\n",
    "                x_values_1 = [coord['x'] for coord in label_coordinates[index_1]['coordinates']]\n",
    "                y_values_1 = [coord['y'] for coord in label_coordinates[index_1]['coordinates']]\n",
    "                z_values_1 = [coord['z'] for coord in label_coordinates[index_1]['coordinates']]\n",
    "                # Handling NaN values by imputing with the mean\n",
    "                x_values_1 = [x / total_size[j][1][0] if not np.isnan(x) else np.nanmean(x_values_1) / total_size[j][1][0] for x in x_values_1]\n",
    "                y_values_1 = [y / total_size[j][1][1] if not np.isnan(y) else np.nanmean(y_values_1) / total_size[j][1][1] for y in y_values_1]\n",
    "                z_values_1 = [z / total_size[j][1][2] if not np.isnan(z) else np.nanmean(z_values_1) / total_size[j][1][2] for z in z_values_1]\n",
    "                label_1= [val for triplet in zip(x_values_1, y_values_1, z_values_1) for val in triplet]\n",
    "                x_values_2 = [coord['x'] for coord in label_coordinates[index_2]['coordinates']]\n",
    "                y_values_2 = [coord['y'] for coord in label_coordinates[index_2]['coordinates']]\n",
    "                z_values_2 = [coord['z'] for coord in label_coordinates[index_2]['coordinates']]\n",
    "\n",
    "                # Handling NaN values by imputing with the mean\n",
    "                x_values_2 = [x / total_size[j][1][0] if not np.isnan(x) else np.nanmean(x_values_2) / total_size[j][1][0] for x in x_values_2]\n",
    "                y_values_2 = [y / total_size[j][1][1] if not np.isnan(y) else np.nanmean(y_values_2) / total_size[j][1][1]for y in y_values_2]\n",
    "                z_values_2 = [z / total_size[j][1][2] if not np.isnan(z) else np.nanmean(z_values_2) / total_size[j][1][2] for z in z_values_2]\n",
    "                label_2= [val for triplet in zip(x_values_2, y_values_2, z_values_2) for val in triplet]\n",
    "                label=label_1+label_2\n",
    "    return(label)\n",
    "\n",
    "def resize(dicom_3d,new_shape=(25, 600, 600)):\n",
    "    dicom_3d=dicom_3d.unsqueeze(0)\n",
    "\n",
    "    resized_tensor_trilinear = F.interpolate(dicom_3d, new_shape, mode='trilinear', align_corners=False)\n",
    "    return(resized_tensor_trilinear)\n",
    "\n",
    "\"\"\")"
   ]
  },
  {
   "cell_type": "code",
   "execution_count": 12,
   "id": "47cd1793",
   "metadata": {
    "execution": {
     "iopub.execute_input": "2024-06-21T22:03:23.333549Z",
     "iopub.status.busy": "2024-06-21T22:03:23.333017Z",
     "iopub.status.idle": "2024-06-21T22:03:23.339976Z",
     "shell.execute_reply": "2024-06-21T22:03:23.338509Z"
    },
    "papermill": {
     "duration": 0.019223,
     "end_time": "2024-06-21T22:03:23.343121",
     "exception": false,
     "start_time": "2024-06-21T22:03:23.323898",
     "status": "completed"
    },
    "tags": []
   },
   "outputs": [],
   "source": [
    "def resize(dicom_3d,new_shape=(25, 600, 600)):\n",
    "    dicom_3d=dicom_3d.unsqueeze(0)\n",
    "\n",
    "    resized_tensor_trilinear = F.interpolate(dicom_3d, new_shape, mode='trilinear', align_corners=False)\n",
    "    return(resized_tensor_trilinear)"
   ]
  },
  {
   "cell_type": "code",
   "execution_count": null,
   "id": "a5b6cd5b",
   "metadata": {
    "execution": {
     "iopub.execute_input": "2024-06-21T17:07:01.011220Z",
     "iopub.status.busy": "2024-06-21T17:07:01.010810Z",
     "iopub.status.idle": "2024-06-21T17:07:01.018356Z",
     "shell.execute_reply": "2024-06-21T17:07:01.017165Z",
     "shell.execute_reply.started": "2024-06-21T17:07:01.011191Z"
    },
    "papermill": {
     "duration": 0.006972,
     "end_time": "2024-06-21T22:03:23.357584",
     "exception": false,
     "start_time": "2024-06-21T22:03:23.350612",
     "status": "completed"
    },
    "tags": []
   },
   "outputs": [],
   "source": []
  },
  {
   "cell_type": "code",
   "execution_count": null,
   "id": "3f776758",
   "metadata": {
    "papermill": {
     "duration": 0.00633,
     "end_time": "2024-06-21T22:03:23.370655",
     "exception": false,
     "start_time": "2024-06-21T22:03:23.364325",
     "status": "completed"
    },
    "tags": []
   },
   "outputs": [],
   "source": []
  }
 ],
 "metadata": {
  "kaggle": {
   "accelerator": "none",
   "dataSources": [
    {
     "databundleVersionId": 8561470,
     "sourceId": 71549,
     "sourceType": "competition"
    },
    {
     "datasetId": 5248381,
     "sourceId": 8741514,
     "sourceType": "datasetVersion"
    },
    {
     "datasetId": 5248386,
     "sourceId": 8741521,
     "sourceType": "datasetVersion"
    }
   ],
   "dockerImageVersionId": 30734,
   "isGpuEnabled": false,
   "isInternetEnabled": true,
   "language": "python",
   "sourceType": "notebook"
  },
  "kernelspec": {
   "display_name": "Python 3",
   "language": "python",
   "name": "python3"
  },
  "language_info": {
   "codemirror_mode": {
    "name": "ipython",
    "version": 3
   },
   "file_extension": ".py",
   "mimetype": "text/x-python",
   "name": "python",
   "nbconvert_exporter": "python",
   "pygments_lexer": "ipython3",
   "version": "3.10.13"
  },
  "papermill": {
   "default_parameters": {},
   "duration": 39.069983,
   "end_time": "2024-06-21T22:03:25.005935",
   "environment_variables": {},
   "exception": null,
   "input_path": "__notebook__.ipynb",
   "output_path": "__notebook__.ipynb",
   "parameters": {},
   "start_time": "2024-06-21T22:02:45.935952",
   "version": "2.5.0"
  }
 },
 "nbformat": 4,
 "nbformat_minor": 5
}
