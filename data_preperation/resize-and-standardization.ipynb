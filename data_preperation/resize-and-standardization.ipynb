{
 "cells": [
  {
   "cell_type": "code",
   "execution_count": 1,
   "id": "fbd1a573",
   "metadata": {
    "execution": {
     "iopub.execute_input": "2024-06-21T11:06:15.874297Z",
     "iopub.status.busy": "2024-06-21T11:06:15.873890Z",
     "iopub.status.idle": "2024-06-21T11:06:33.034740Z",
     "shell.execute_reply": "2024-06-21T11:06:33.033428Z"
    },
    "papermill": {
     "duration": 17.171454,
     "end_time": "2024-06-21T11:06:33.037839",
     "exception": false,
     "start_time": "2024-06-21T11:06:15.866385",
     "status": "completed"
    },
    "tags": []
   },
   "outputs": [
    {
     "name": "stdout",
     "output_type": "stream",
     "text": [
      "Collecting natsort\r\n",
      "  Downloading natsort-8.4.0-py3-none-any.whl.metadata (21 kB)\r\n",
      "Downloading natsort-8.4.0-py3-none-any.whl (38 kB)\r\n",
      "Installing collected packages: natsort\r\n",
      "Successfully installed natsort-8.4.0\r\n"
     ]
    }
   ],
   "source": [
    "!pip install natsort"
   ]
  },
  {
   "cell_type": "code",
   "execution_count": 2,
   "id": "60dde2ef",
   "metadata": {
    "execution": {
     "iopub.execute_input": "2024-06-21T11:06:33.052134Z",
     "iopub.status.busy": "2024-06-21T11:06:33.051081Z",
     "iopub.status.idle": "2024-06-21T11:06:38.782510Z",
     "shell.execute_reply": "2024-06-21T11:06:38.781300Z"
    },
    "papermill": {
     "duration": 5.741683,
     "end_time": "2024-06-21T11:06:38.785450",
     "exception": false,
     "start_time": "2024-06-21T11:06:33.043767",
     "status": "completed"
    },
    "tags": []
   },
   "outputs": [],
   "source": [
    "import pydicom\n",
    "import os\n",
    "from tqdm import tqdm\n",
    "import numpy as np\n",
    "import concurrent.futures\n",
    "import json\n",
    "from natsort import natsorted\n",
    "from pydicom.encaps import encapsulate\n",
    "from pydicom.uid import JPEG2000Lossless\n",
    "import shutil\n",
    "import random\n",
    "from sklearn.model_selection import KFold\n",
    "import torch\n",
    "import torch.nn.functional as F\n",
    "import matplotlib.pyplot as plt"
   ]
  },
  {
   "cell_type": "code",
   "execution_count": 3,
   "id": "d9b41147",
   "metadata": {
    "execution": {
     "iopub.execute_input": "2024-06-21T11:06:38.799321Z",
     "iopub.status.busy": "2024-06-21T11:06:38.798750Z",
     "iopub.status.idle": "2024-06-21T11:06:38.804015Z",
     "shell.execute_reply": "2024-06-21T11:06:38.802895Z"
    },
    "papermill": {
     "duration": 0.015104,
     "end_time": "2024-06-21T11:06:38.806531",
     "exception": false,
     "start_time": "2024-06-21T11:06:38.791427",
     "status": "completed"
    },
    "tags": []
   },
   "outputs": [],
   "source": [
    "data_dir='/kaggle/input/rsna-2024-lumbar-spine-degenerative-classification'"
   ]
  },
  {
   "cell_type": "code",
   "execution_count": 4,
   "id": "91b92f5c",
   "metadata": {
    "execution": {
     "iopub.execute_input": "2024-06-21T11:06:38.820365Z",
     "iopub.status.busy": "2024-06-21T11:06:38.819934Z",
     "iopub.status.idle": "2024-06-21T11:06:38.826565Z",
     "shell.execute_reply": "2024-06-21T11:06:38.825318Z"
    },
    "papermill": {
     "duration": 0.016398,
     "end_time": "2024-06-21T11:06:38.829141",
     "exception": false,
     "start_time": "2024-06-21T11:06:38.812743",
     "status": "completed"
    },
    "tags": []
   },
   "outputs": [],
   "source": [
    "\n",
    "# def process_serie(patient, serie_id, data_dir):\n",
    "#     num_pix_row = []\n",
    "#     num_pix_col = []\n",
    "#     dicom_dir = f'{data_dir}/train_images/{patient}/{serie_id}'\n",
    "#     problematic_serie_ids=[]\n",
    "#     for dicom in os.listdir(dicom_dir): \n",
    "#         dicom_file = pydicom.dcmread(os.path.join(dicom_dir, dicom))\n",
    "#         num_pix_col.append(dicom_file.pixel_array.shape[1])\n",
    "#         num_pix_row.append(dicom_file.pixel_array.shape[0])\n",
    "\n",
    "\n",
    "#     x_pixel = max(num_pix_row) if max(num_pix_row) == min(num_pix_row) else 640\n",
    "#     y_pixel = max(num_pix_col) if max(num_pix_col) == min(num_pix_col) else 640\n",
    "#     dicom_len = len(os.listdir(dicom_dir))\n",
    "\n",
    "#     size = [x_pixel, y_pixel, dicom_len]\n",
    "#     size_and_serie = [serie_id, size]\n",
    "#     return size_and_serie\n",
    "\n",
    "# def process_patient(patient, data_dir):\n",
    "#     patient_dir = f'{data_dir}/train_images/{patient}'\n",
    "#     results = []\n",
    "#     for serie_id in os.listdir(patient_dir):\n",
    "#         results.append(process_serie(patient, serie_id, data_dir))\n",
    "#     return results\n",
    "\n",
    "# def main(data_dir):\n",
    "#     total_size = []\n",
    "#     with concurrent.futures.ProcessPoolExecutor() as executor:\n",
    "#         futures = [executor.submit(process_patient, patient, data_dir) for patient in os.listdir(f\"{data_dir}/train_images\")]\n",
    "#         for future in tqdm(concurrent.futures.as_completed(futures), total=len(futures)):\n",
    "#             total_size.extend(future.result())\n",
    "#     return total_size\n",
    "# data_dir='/kaggle/input/rsna-2024-lumbar-spine-degenerative-classification'\n",
    "# total_size = main(data_dir)"
   ]
  },
  {
   "cell_type": "code",
   "execution_count": 5,
   "id": "c11ec537",
   "metadata": {
    "execution": {
     "iopub.execute_input": "2024-06-21T11:06:38.842378Z",
     "iopub.status.busy": "2024-06-21T11:06:38.841972Z",
     "iopub.status.idle": "2024-06-21T11:06:38.867660Z",
     "shell.execute_reply": "2024-06-21T11:06:38.866444Z"
    },
    "papermill": {
     "duration": 0.03579,
     "end_time": "2024-06-21T11:06:38.870755",
     "exception": false,
     "start_time": "2024-06-21T11:06:38.834965",
     "status": "completed"
    },
    "tags": []
   },
   "outputs": [],
   "source": [
    "with open('/kaggle/input/size-label/list.json', 'r') as f:\n",
    "    total_size = json.load(f)"
   ]
  },
  {
   "cell_type": "code",
   "execution_count": 6,
   "id": "15113d61",
   "metadata": {
    "execution": {
     "iopub.execute_input": "2024-06-21T11:06:38.884830Z",
     "iopub.status.busy": "2024-06-21T11:06:38.884399Z",
     "iopub.status.idle": "2024-06-21T11:06:39.282926Z",
     "shell.execute_reply": "2024-06-21T11:06:39.281613Z"
    },
    "papermill": {
     "duration": 0.408958,
     "end_time": "2024-06-21T11:06:39.285807",
     "exception": false,
     "start_time": "2024-06-21T11:06:38.876849",
     "status": "completed"
    },
    "tags": []
   },
   "outputs": [],
   "source": [
    "with open('/kaggle/input/label-coordinates/json_label_coordinates (2).json', 'r') as f:\n",
    "    label_coordinates = json.load(f)"
   ]
  },
  {
   "cell_type": "code",
   "execution_count": 7,
   "id": "b8997a7b",
   "metadata": {
    "execution": {
     "iopub.execute_input": "2024-06-21T11:06:39.299616Z",
     "iopub.status.busy": "2024-06-21T11:06:39.299144Z",
     "iopub.status.idle": "2024-06-21T11:06:39.324007Z",
     "shell.execute_reply": "2024-06-21T11:06:39.322794Z"
    },
    "papermill": {
     "duration": 0.035145,
     "end_time": "2024-06-21T11:06:39.326907",
     "exception": false,
     "start_time": "2024-06-21T11:06:39.291762",
     "status": "completed"
    },
    "tags": []
   },
   "outputs": [],
   "source": [
    "#####important: I should refine the way to impute missing data\n",
    "\n",
    "def produce_label(serie_id):\n",
    "    same_serie=0\n",
    "    for i in range(len(label_coordinates)):\n",
    "        if label_coordinates[i]['series_id']==serie_id:\n",
    "            index_1=i-1\n",
    "            index_2=i\n",
    "            same_serie=same_serie+1\n",
    "    for j in range(len((total_size))):\n",
    "        if int(total_size[j][0])==serie_id:\n",
    "            if same_serie==1:\n",
    "                            # Extracting x, y, z values\n",
    "                x_values_1 = [coord['x'] for coord in label_coordinates[index_2]['coordinates']]\n",
    "                y_values_1 = [coord['y'] for coord in label_coordinates[index_2]['coordinates']]\n",
    "                z_values_1 = [coord['z'] for coord in label_coordinates[index_2]['coordinates']]\n",
    "\n",
    "                # Handling NaN values by imputing with the mean\n",
    "                x_values_1 = [x / total_size[j][1][0] if not np.isnan(x) else np.nanmean(x_values_1) / total_size[j][1][0] for x in x_values_1]\n",
    "                y_values_1 = [y / total_size[j][1][1] if not np.isnan(y) else np.nanmean(y_values_1) / total_size[j][1][1] for y in y_values_1]\n",
    "                z_values_1 = [z / total_size[j][1][2] if not np.isnan(z) else np.nanmean(z_values_1) / total_size[j][1][2] for z in z_values_1]\n",
    "                label_1= [val for triplet in zip(x_values_1, y_values_1, z_values_1) for val in triplet]\n",
    "                label_2=[0]*15\n",
    "                label=label_1+label_2\n",
    "            elif same_serie==2:\n",
    "                x_values_1 = [coord['x'] for coord in label_coordinates[index_1]['coordinates']]\n",
    "                y_values_1 = [coord['y'] for coord in label_coordinates[index_1]['coordinates']]\n",
    "                z_values_1 = [coord['z'] for coord in label_coordinates[index_1]['coordinates']]\n",
    "                # Handling NaN values by imputing with the mean\n",
    "                x_values_1 = [x / total_size[j][1][0] if not np.isnan(x) else np.nanmean(x_values_1) / total_size[j][1][0] for x in x_values_1]\n",
    "                y_values_1 = [y / total_size[j][1][1] if not np.isnan(y) else np.nanmean(y_values_1) / total_size[j][1][1] for y in y_values_1]\n",
    "                z_values_1 = [z / total_size[j][1][2] if not np.isnan(z) else np.nanmean(z_values_1) / total_size[j][1][2] for z in z_values_1]\n",
    "                label_1= [val for triplet in zip(x_values_1, y_values_1, z_values_1) for val in triplet]\n",
    "                x_values_2 = [coord['x'] for coord in label_coordinates[index_2]['coordinates']]\n",
    "                y_values_2 = [coord['y'] for coord in label_coordinates[index_2]['coordinates']]\n",
    "                z_values_2 = [coord['z'] for coord in label_coordinates[index_2]['coordinates']]\n",
    "\n",
    "                # Handling NaN values by imputing with the mean\n",
    "                x_values_2 = [x / total_size[j][1][0] if not np.isnan(x) else np.nanmean(x_values_2) / total_size[j][1][0] for x in x_values_2]\n",
    "                y_values_2 = [y / total_size[j][1][1] if not np.isnan(y) else np.nanmean(y_values_2) / total_size[j][1][1]for y in y_values_2]\n",
    "                z_values_2 = [z / total_size[j][1][2] if not np.isnan(z) else np.nanmean(z_values_2) / total_size[j][1][2] for z in z_values_2]\n",
    "                label_2= [val for triplet in zip(x_values_2, y_values_2, z_values_2) for val in triplet]\n",
    "                label=label_1+label_2\n",
    "    return(label)\n",
    "\n",
    "        "
   ]
  },
  {
   "cell_type": "code",
   "execution_count": 8,
   "id": "9f80695f",
   "metadata": {
    "execution": {
     "iopub.execute_input": "2024-06-21T11:06:39.340530Z",
     "iopub.status.busy": "2024-06-21T11:06:39.340106Z",
     "iopub.status.idle": "2024-06-21T11:06:39.347911Z",
     "shell.execute_reply": "2024-06-21T11:06:39.346670Z"
    },
    "papermill": {
     "duration": 0.017625,
     "end_time": "2024-06-21T11:06:39.350426",
     "exception": false,
     "start_time": "2024-06-21T11:06:39.332801",
     "status": "completed"
    },
    "tags": []
   },
   "outputs": [],
   "source": [
    "def standardize_dicom(patient,serie_id,data_dir):\n",
    "    dicom_files = [f for f in os.listdir(f'{data_dir}/train_images/{patient}/{serie_id}')]\n",
    "    dicom_files = natsorted(dicom_files)\n",
    "    dicom_3d=[]\n",
    "    for dicom in dicom_files:\n",
    "        dir=f'{data_dir}/train_images/{patient}/{serie_id}/{dicom}'\n",
    "        dicom_pix=pydicom.dcmread(dir).pixel_array\n",
    "        dicom_pix=dicom_pix/dicom_pix.max()\n",
    "        dicom_3d.append(dicom_pix)\n",
    "    dicom_3d=torch.tensor(dicom_3d)\n",
    "    return(dicom_3d)"
   ]
  },
  {
   "cell_type": "code",
   "execution_count": null,
   "id": "afb97739",
   "metadata": {
    "papermill": {
     "duration": 0.005505,
     "end_time": "2024-06-21T11:06:39.361721",
     "exception": false,
     "start_time": "2024-06-21T11:06:39.356216",
     "status": "completed"
    },
    "tags": []
   },
   "outputs": [],
   "source": []
  },
  {
   "cell_type": "code",
   "execution_count": 9,
   "id": "55d17d85",
   "metadata": {
    "execution": {
     "iopub.execute_input": "2024-06-21T11:06:39.375132Z",
     "iopub.status.busy": "2024-06-21T11:06:39.374676Z",
     "iopub.status.idle": "2024-06-21T11:06:40.716249Z",
     "shell.execute_reply": "2024-06-21T11:06:40.714879Z"
    },
    "papermill": {
     "duration": 1.352018,
     "end_time": "2024-06-21T11:06:40.719537",
     "exception": false,
     "start_time": "2024-06-21T11:06:39.367519",
     "status": "completed"
    },
    "tags": []
   },
   "outputs": [
    {
     "name": "stdout",
     "output_type": "stream",
     "text": [
      "torch.Size([1, 22, 384, 384])\n"
     ]
    },
    {
     "name": "stderr",
     "output_type": "stream",
     "text": [
      "/tmp/ipykernel_18/2417833851.py:10: UserWarning: Creating a tensor from a list of numpy.ndarrays is extremely slow. Please consider converting the list to a single numpy.ndarray with numpy.array() before converting to a tensor. (Triggered internally at ../torch/csrc/utils/tensor_new.cpp:261.)\n",
      "  dicom_3d=torch.tensor(dicom_3d)\n"
     ]
    }
   ],
   "source": [
    "dicom_3d=standardize_dicom(3343942613,4231470556,data_dir)\n",
    "print(dicom_3d.unsqueeze(0).shape)"
   ]
  },
  {
   "cell_type": "code",
   "execution_count": 10,
   "id": "ea4f1cfb",
   "metadata": {
    "execution": {
     "iopub.execute_input": "2024-06-21T11:06:40.734944Z",
     "iopub.status.busy": "2024-06-21T11:06:40.734367Z",
     "iopub.status.idle": "2024-06-21T11:06:40.742972Z",
     "shell.execute_reply": "2024-06-21T11:06:40.741492Z"
    },
    "papermill": {
     "duration": 0.019691,
     "end_time": "2024-06-21T11:06:40.745574",
     "exception": false,
     "start_time": "2024-06-21T11:06:40.725883",
     "status": "completed"
    },
    "tags": []
   },
   "outputs": [],
   "source": [
    "def resize(dicom_3d,new_shape=(25, 600, 600)):\n",
    "    dicom_3d=dicom_3d.unsqueeze(0)\n",
    "    dicom_3d=dicom_3d.unsqueeze(0)\n",
    "\n",
    "    resized_tensor_trilinear = F.interpolate(dicom_3d, new_shape, mode='trilinear', align_corners=False)\n",
    "    return(resized_tensor_trilinear)"
   ]
  },
  {
   "cell_type": "code",
   "execution_count": null,
   "id": "a0a0e24b",
   "metadata": {
    "execution": {
     "iopub.execute_input": "2024-06-21T10:58:36.348429Z",
     "iopub.status.busy": "2024-06-21T10:58:36.347974Z",
     "iopub.status.idle": "2024-06-21T10:58:36.356924Z",
     "shell.execute_reply": "2024-06-21T10:58:36.355581Z",
     "shell.execute_reply.started": "2024-06-21T10:58:36.348394Z"
    },
    "papermill": {
     "duration": 0.00571,
     "end_time": "2024-06-21T11:06:40.757500",
     "exception": false,
     "start_time": "2024-06-21T11:06:40.751790",
     "status": "completed"
    },
    "tags": []
   },
   "outputs": [],
   "source": []
  },
  {
   "cell_type": "code",
   "execution_count": null,
   "id": "4b016715",
   "metadata": {
    "papermill": {
     "duration": 0.005732,
     "end_time": "2024-06-21T11:06:40.769171",
     "exception": false,
     "start_time": "2024-06-21T11:06:40.763439",
     "status": "completed"
    },
    "tags": []
   },
   "outputs": [],
   "source": []
  }
 ],
 "metadata": {
  "kaggle": {
   "accelerator": "none",
   "dataSources": [
    {
     "databundleVersionId": 8561470,
     "sourceId": 71549,
     "sourceType": "competition"
    },
    {
     "datasetId": 5248381,
     "sourceId": 8741514,
     "sourceType": "datasetVersion"
    },
    {
     "datasetId": 5248386,
     "sourceId": 8741521,
     "sourceType": "datasetVersion"
    }
   ],
   "dockerImageVersionId": 30734,
   "isGpuEnabled": false,
   "isInternetEnabled": true,
   "language": "python",
   "sourceType": "notebook"
  },
  "kernelspec": {
   "display_name": "Python 3",
   "language": "python",
   "name": "python3"
  },
  "language_info": {
   "codemirror_mode": {
    "name": "ipython",
    "version": 3
   },
   "file_extension": ".py",
   "mimetype": "text/x-python",
   "name": "python",
   "nbconvert_exporter": "python",
   "pygments_lexer": "ipython3",
   "version": "3.10.13"
  },
  "papermill": {
   "default_parameters": {},
   "duration": 29.238951,
   "end_time": "2024-06-21T11:06:41.900364",
   "environment_variables": {},
   "exception": null,
   "input_path": "__notebook__.ipynb",
   "output_path": "__notebook__.ipynb",
   "parameters": {},
   "start_time": "2024-06-21T11:06:12.661413",
   "version": "2.5.0"
  }
 },
 "nbformat": 4,
 "nbformat_minor": 5
}
