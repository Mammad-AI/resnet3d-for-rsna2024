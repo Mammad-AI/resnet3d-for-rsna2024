{
 "cells": [
  {
   "cell_type": "code",
   "execution_count": 1,
   "id": "2ef6b2ec",
   "metadata": {
    "execution": {
     "iopub.execute_input": "2024-06-21T21:46:45.586817Z",
     "iopub.status.busy": "2024-06-21T21:46:45.585503Z",
     "iopub.status.idle": "2024-06-21T21:47:03.008570Z",
     "shell.execute_reply": "2024-06-21T21:47:03.007022Z"
    },
    "papermill": {
     "duration": 17.435858,
     "end_time": "2024-06-21T21:47:03.013125",
     "exception": false,
     "start_time": "2024-06-21T21:46:45.577267",
     "status": "completed"
    },
    "tags": []
   },
   "outputs": [
    {
     "name": "stdout",
     "output_type": "stream",
     "text": [
      "Collecting natsort\r\n",
      "  Downloading natsort-8.4.0-py3-none-any.whl.metadata (21 kB)\r\n",
      "Downloading natsort-8.4.0-py3-none-any.whl (38 kB)\r\n",
      "Installing collected packages: natsort\r\n",
      "Successfully installed natsort-8.4.0\r\n"
     ]
    }
   ],
   "source": [
    "!pip install natsort"
   ]
  },
  {
   "cell_type": "code",
   "execution_count": 2,
   "id": "a6dfd0d4",
   "metadata": {
    "execution": {
     "iopub.execute_input": "2024-06-21T21:47:03.029778Z",
     "iopub.status.busy": "2024-06-21T21:47:03.029290Z",
     "iopub.status.idle": "2024-06-21T21:47:08.867072Z",
     "shell.execute_reply": "2024-06-21T21:47:08.865920Z"
    },
    "papermill": {
     "duration": 5.850127,
     "end_time": "2024-06-21T21:47:08.870406",
     "exception": false,
     "start_time": "2024-06-21T21:47:03.020279",
     "status": "completed"
    },
    "tags": []
   },
   "outputs": [],
   "source": [
    "import pydicom\n",
    "import os\n",
    "from tqdm import tqdm\n",
    "import numpy as np\n",
    "import concurrent.futures\n",
    "import json\n",
    "from natsort import natsorted\n",
    "from pydicom.encaps import encapsulate\n",
    "from pydicom.uid import JPEG2000Lossless\n",
    "import shutil\n",
    "import random\n",
    "from sklearn.model_selection import KFold\n",
    "import torch\n",
    "import torch.nn.functional as F\n",
    "import matplotlib.pyplot as plt"
   ]
  },
  {
   "cell_type": "code",
   "execution_count": 3,
   "id": "1f21efab",
   "metadata": {
    "execution": {
     "iopub.execute_input": "2024-06-21T21:47:08.885585Z",
     "iopub.status.busy": "2024-06-21T21:47:08.885032Z",
     "iopub.status.idle": "2024-06-21T21:47:08.890932Z",
     "shell.execute_reply": "2024-06-21T21:47:08.889362Z"
    },
    "papermill": {
     "duration": 0.01662,
     "end_time": "2024-06-21T21:47:08.893638",
     "exception": false,
     "start_time": "2024-06-21T21:47:08.877018",
     "status": "completed"
    },
    "tags": []
   },
   "outputs": [],
   "source": [
    "data_dir='/kaggle/input/rsna-2024-lumbar-spine-degenerative-classification'"
   ]
  },
  {
   "cell_type": "code",
   "execution_count": 4,
   "id": "a58dc03d",
   "metadata": {
    "execution": {
     "iopub.execute_input": "2024-06-21T21:47:08.909190Z",
     "iopub.status.busy": "2024-06-21T21:47:08.908654Z",
     "iopub.status.idle": "2024-06-21T21:47:08.916018Z",
     "shell.execute_reply": "2024-06-21T21:47:08.914653Z"
    },
    "papermill": {
     "duration": 0.018641,
     "end_time": "2024-06-21T21:47:08.918934",
     "exception": false,
     "start_time": "2024-06-21T21:47:08.900293",
     "status": "completed"
    },
    "tags": []
   },
   "outputs": [],
   "source": [
    "\n",
    "# def process_serie(patient, serie_id, data_dir):\n",
    "#     num_pix_row = []\n",
    "#     num_pix_col = []\n",
    "#     dicom_dir = f'{data_dir}/train_images/{patient}/{serie_id}'\n",
    "#     problematic_serie_ids=[]\n",
    "#     for dicom in os.listdir(dicom_dir): \n",
    "#         dicom_file = pydicom.dcmread(os.path.join(dicom_dir, dicom))\n",
    "#         num_pix_col.append(dicom_file.pixel_array.shape[1])\n",
    "#         num_pix_row.append(dicom_file.pixel_array.shape[0])\n",
    "\n",
    "\n",
    "#     x_pixel = max(num_pix_row) if max(num_pix_row) == min(num_pix_row) else 640\n",
    "#     y_pixel = max(num_pix_col) if max(num_pix_col) == min(num_pix_col) else 640\n",
    "#     dicom_len = len(os.listdir(dicom_dir))\n",
    "\n",
    "#     size = [x_pixel, y_pixel, dicom_len]\n",
    "#     size_and_serie = [serie_id, size]\n",
    "#     return size_and_serie\n",
    "\n",
    "# def process_patient(patient, data_dir):\n",
    "#     patient_dir = f'{data_dir}/train_images/{patient}'\n",
    "#     results = []\n",
    "#     for serie_id in os.listdir(patient_dir):\n",
    "#         results.append(process_serie(patient, serie_id, data_dir))\n",
    "#     return results\n",
    "\n",
    "# def main(data_dir):\n",
    "#     total_size = []\n",
    "#     with concurrent.futures.ProcessPoolExecutor() as executor:\n",
    "#         futures = [executor.submit(process_patient, patient, data_dir) for patient in os.listdir(f\"{data_dir}/train_images\")]\n",
    "#         for future in tqdm(concurrent.futures.as_completed(futures), total=len(futures)):\n",
    "#             total_size.extend(future.result())\n",
    "#     return total_size\n",
    "# data_dir='/kaggle/input/rsna-2024-lumbar-spine-degenerative-classification'\n",
    "# total_size = main(data_dir)"
   ]
  },
  {
   "cell_type": "code",
   "execution_count": 5,
   "id": "6834a8b3",
   "metadata": {
    "execution": {
     "iopub.execute_input": "2024-06-21T21:47:08.933634Z",
     "iopub.status.busy": "2024-06-21T21:47:08.933134Z",
     "iopub.status.idle": "2024-06-21T21:47:08.959650Z",
     "shell.execute_reply": "2024-06-21T21:47:08.958409Z"
    },
    "papermill": {
     "duration": 0.037689,
     "end_time": "2024-06-21T21:47:08.962847",
     "exception": false,
     "start_time": "2024-06-21T21:47:08.925158",
     "status": "completed"
    },
    "tags": []
   },
   "outputs": [],
   "source": [
    "with open('/kaggle/input/size-label/list.json', 'r') as f:\n",
    "    total_size = json.load(f)"
   ]
  },
  {
   "cell_type": "code",
   "execution_count": 6,
   "id": "2067ba57",
   "metadata": {
    "execution": {
     "iopub.execute_input": "2024-06-21T21:47:08.978035Z",
     "iopub.status.busy": "2024-06-21T21:47:08.977549Z",
     "iopub.status.idle": "2024-06-21T21:47:09.450514Z",
     "shell.execute_reply": "2024-06-21T21:47:09.449188Z"
    },
    "papermill": {
     "duration": 0.484129,
     "end_time": "2024-06-21T21:47:09.453678",
     "exception": false,
     "start_time": "2024-06-21T21:47:08.969549",
     "status": "completed"
    },
    "tags": []
   },
   "outputs": [],
   "source": [
    "\n",
    "with open('/kaggle/input/label-coordinates/json_label_coordinates (2).json', 'r') as f:\n",
    "    label_coordinates = json.load(f)"
   ]
  },
  {
   "cell_type": "code",
   "execution_count": 7,
   "id": "6ec2f00c",
   "metadata": {
    "execution": {
     "iopub.execute_input": "2024-06-21T21:47:09.469105Z",
     "iopub.status.busy": "2024-06-21T21:47:09.468491Z",
     "iopub.status.idle": "2024-06-21T21:47:09.495310Z",
     "shell.execute_reply": "2024-06-21T21:47:09.493914Z"
    },
    "papermill": {
     "duration": 0.038455,
     "end_time": "2024-06-21T21:47:09.498575",
     "exception": false,
     "start_time": "2024-06-21T21:47:09.460120",
     "status": "completed"
    },
    "tags": []
   },
   "outputs": [],
   "source": [
    "#####important: I should refine the way to impute missing data\n",
    "\n",
    "def produce_label(serie_id,label_coordinates,total_size):\n",
    "    same_serie=0\n",
    "    for i in range(len(label_coordinates)):\n",
    "        if label_coordinates[i]['series_id']==serie_id:\n",
    "            index_1=i-1\n",
    "            index_2=i\n",
    "            same_serie=same_serie+1\n",
    "    for j in range(len((total_size))):\n",
    "        if int(total_size[j][0])==serie_id:\n",
    "            if same_serie==1:\n",
    "                            # Extracting x, y, z values\n",
    "                x_values_1 = [coord['x'] for coord in label_coordinates[index_2]['coordinates']]\n",
    "                y_values_1 = [coord['y'] for coord in label_coordinates[index_2]['coordinates']]\n",
    "                z_values_1 = [coord['z'] for coord in label_coordinates[index_2]['coordinates']]\n",
    "\n",
    "                # Handling NaN values by imputing with the mean\n",
    "                x_values_1 = [x / total_size[j][1][0] if not np.isnan(x) else np.nanmean(x_values_1) / total_size[j][1][0] for x in x_values_1]\n",
    "                y_values_1 = [y / total_size[j][1][1] if not np.isnan(y) else np.nanmean(y_values_1) / total_size[j][1][1] for y in y_values_1]\n",
    "                z_values_1 = [z / total_size[j][1][2] if not np.isnan(z) else np.nanmean(z_values_1) / total_size[j][1][2] for z in z_values_1]\n",
    "                label_1= [val for triplet in zip(x_values_1, y_values_1, z_values_1) for val in triplet]\n",
    "                label_2=[0]*15\n",
    "                label=label_1+label_2\n",
    "            elif same_serie==2:\n",
    "                x_values_1 = [coord['x'] for coord in label_coordinates[index_1]['coordinates']]\n",
    "                y_values_1 = [coord['y'] for coord in label_coordinates[index_1]['coordinates']]\n",
    "                z_values_1 = [coord['z'] for coord in label_coordinates[index_1]['coordinates']]\n",
    "                # Handling NaN values by imputing with the mean\n",
    "                x_values_1 = [x / total_size[j][1][0] if not np.isnan(x) else np.nanmean(x_values_1) / total_size[j][1][0] for x in x_values_1]\n",
    "                y_values_1 = [y / total_size[j][1][1] if not np.isnan(y) else np.nanmean(y_values_1) / total_size[j][1][1] for y in y_values_1]\n",
    "                z_values_1 = [z / total_size[j][1][2] if not np.isnan(z) else np.nanmean(z_values_1) / total_size[j][1][2] for z in z_values_1]\n",
    "                label_1= [val for triplet in zip(x_values_1, y_values_1, z_values_1) for val in triplet]\n",
    "                x_values_2 = [coord['x'] for coord in label_coordinates[index_2]['coordinates']]\n",
    "                y_values_2 = [coord['y'] for coord in label_coordinates[index_2]['coordinates']]\n",
    "                z_values_2 = [coord['z'] for coord in label_coordinates[index_2]['coordinates']]\n",
    "\n",
    "                # Handling NaN values by imputing with the mean\n",
    "                x_values_2 = [x / total_size[j][1][0] if not np.isnan(x) else np.nanmean(x_values_2) / total_size[j][1][0] for x in x_values_2]\n",
    "                y_values_2 = [y / total_size[j][1][1] if not np.isnan(y) else np.nanmean(y_values_2) / total_size[j][1][1]for y in y_values_2]\n",
    "                z_values_2 = [z / total_size[j][1][2] if not np.isnan(z) else np.nanmean(z_values_2) / total_size[j][1][2] for z in z_values_2]\n",
    "                label_2= [val for triplet in zip(x_values_2, y_values_2, z_values_2) for val in triplet]\n",
    "                label=label_1+label_2\n",
    "    return(label)\n",
    "\n",
    "        "
   ]
  },
  {
   "cell_type": "code",
   "execution_count": 8,
   "id": "4a889eb5",
   "metadata": {
    "execution": {
     "iopub.execute_input": "2024-06-21T21:47:09.514275Z",
     "iopub.status.busy": "2024-06-21T21:47:09.513735Z",
     "iopub.status.idle": "2024-06-21T21:47:14.433244Z",
     "shell.execute_reply": "2024-06-21T21:47:14.431783Z"
    },
    "papermill": {
     "duration": 4.931153,
     "end_time": "2024-06-21T21:47:14.436415",
     "exception": false,
     "start_time": "2024-06-21T21:47:09.505262",
     "status": "completed"
    },
    "tags": []
   },
   "outputs": [],
   "source": [
    "serie_pat_list=[]\n",
    "for i in os.listdir(f'{data_dir}/train_images'):\n",
    "    for j in os.listdir(f'{data_dir}/train_images/{i}'):\n",
    "        new_list=[i,j]\n",
    "        serie_pat_list.append(new_list)\n",
    "    "
   ]
  },
  {
   "cell_type": "code",
   "execution_count": 9,
   "id": "7f7982a5",
   "metadata": {
    "execution": {
     "iopub.execute_input": "2024-06-21T21:47:14.452758Z",
     "iopub.status.busy": "2024-06-21T21:47:14.452349Z",
     "iopub.status.idle": "2024-06-21T21:47:14.460889Z",
     "shell.execute_reply": "2024-06-21T21:47:14.459516Z"
    },
    "papermill": {
     "duration": 0.019817,
     "end_time": "2024-06-21T21:47:14.463548",
     "exception": false,
     "start_time": "2024-06-21T21:47:14.443731",
     "status": "completed"
    },
    "tags": []
   },
   "outputs": [],
   "source": [
    "serie_list=[]\n",
    "for j in range(len(serie_pat_list)):\n",
    "    serie_list.append(serie_pat_list[j][1])"
   ]
  },
  {
   "cell_type": "code",
   "execution_count": 10,
   "id": "09aab929",
   "metadata": {
    "execution": {
     "iopub.execute_input": "2024-06-21T21:47:14.478511Z",
     "iopub.status.busy": "2024-06-21T21:47:14.478007Z",
     "iopub.status.idle": "2024-06-21T21:47:14.488248Z",
     "shell.execute_reply": "2024-06-21T21:47:14.486736Z"
    },
    "papermill": {
     "duration": 0.020985,
     "end_time": "2024-06-21T21:47:14.490883",
     "exception": false,
     "start_time": "2024-06-21T21:47:14.469898",
     "status": "completed"
    },
    "tags": []
   },
   "outputs": [],
   "source": [
    "def standardize_dicom(serie_pat_list,serie_id,data_dir):\n",
    "    for j in range(len(serie_pat_list)):\n",
    "        if serie_pat_list[j][1]==serie_id:\n",
    "            patient=serie_pat_list[j][0]\n",
    "\n",
    "    dicom_files = [f for f in os.listdir(f'{data_dir}/train_images/{patient}/{serie_id}')]\n",
    "    dicom_files = natsorted(dicom_files)\n",
    "    dicom_3d=[]\n",
    "    for dicom in dicom_files:\n",
    "        dir=f'{data_dir}/train_images/{patient}/{serie_id}/{dicom}'\n",
    "        dicom_pix=pydicom.dcmread(dir).pixel_array\n",
    "        dicom_pix=dicom_pix/dicom_pix.max()\n",
    "        dicom_3d.append(dicom_pix)\n",
    "    dicom_3d=np.array(dicom_3d)\n",
    "    dicom_3d=torch.tensor(dicom_3d)\n",
    "    return(dicom_3d)"
   ]
  },
  {
   "cell_type": "code",
   "execution_count": 11,
   "id": "cebafe23",
   "metadata": {
    "execution": {
     "iopub.execute_input": "2024-06-21T21:47:14.505931Z",
     "iopub.status.busy": "2024-06-21T21:47:14.505398Z",
     "iopub.status.idle": "2024-06-21T21:47:14.517232Z",
     "shell.execute_reply": "2024-06-21T21:47:14.516032Z"
    },
    "papermill": {
     "duration": 0.022992,
     "end_time": "2024-06-21T21:47:14.520114",
     "exception": false,
     "start_time": "2024-06-21T21:47:14.497122",
     "status": "completed"
    },
    "tags": []
   },
   "outputs": [],
   "source": [
    "with open('resize_standard.py', 'w') as f:\n",
    "    f.write(\"\"\"\n",
    "import pydicom\n",
    "import os\n",
    "import numpy as np\n",
    "from natsort import natsorted\n",
    "import torch\n",
    "import torch.nn.functional as F\n",
    "def standardize_dicom(serie_pat_list,serie_id,data_dir):\n",
    "    for j in range(len(serie_pat_list)):\n",
    "        if serie_pat_list[j][1]==serie_id:\n",
    "            patient=serie_pat_list[j][0]\n",
    "\n",
    "    dicom_files = [f for f in os.listdir(f'{data_dir}/train_images/{patient}/{serie_id}')]\n",
    "    dicom_files = natsorted(dicom_files)\n",
    "    dicom_3d=[]\n",
    "    for dicom in dicom_files:\n",
    "        dir=f'{data_dir}/train_images/{patient}/{serie_id}/{dicom}'\n",
    "        dicom_pix=pydicom.dcmread(dir).pixel_array\n",
    "        dicom_pix=dicom_pix/dicom_pix.max()\n",
    "        dicom_3d.append(dicom_pix)\n",
    "    dicom_3d=np.array(dicom_3d)\n",
    "    dicom_3d=torch.tensor(dicom_3d)\n",
    "    return(dicom_3d)\n",
    "\n",
    "def produce_label(serie_id,label_coordinates,total_size):\n",
    "    same_serie=0\n",
    "    for i in range(len(label_coordinates)):\n",
    "        if label_coordinates[i]['series_id']==serie_id:\n",
    "            index_1=i-1\n",
    "            index_2=i\n",
    "            same_serie=same_serie+1\n",
    "    for j in range(len((total_size))):\n",
    "        if int(total_size[j][0])==serie_id:\n",
    "            if same_serie==1:\n",
    "                            # Extracting x, y, z values\n",
    "                x_values_1 = [coord['x'] for coord in label_coordinates[index_2]['coordinates']]\n",
    "                y_values_1 = [coord['y'] for coord in label_coordinates[index_2]['coordinates']]\n",
    "                z_values_1 = [coord['z'] for coord in label_coordinates[index_2]['coordinates']]\n",
    "\n",
    "                # Handling NaN values by imputing with the mean\n",
    "                x_values_1 = [x / total_size[j][1][0] if not np.isnan(x) else np.nanmean(x_values_1) / total_size[j][1][0] for x in x_values_1]\n",
    "                y_values_1 = [y / total_size[j][1][1] if not np.isnan(y) else np.nanmean(y_values_1) / total_size[j][1][1] for y in y_values_1]\n",
    "                z_values_1 = [z / total_size[j][1][2] if not np.isnan(z) else np.nanmean(z_values_1) / total_size[j][1][2] for z in z_values_1]\n",
    "                label_1= [val for triplet in zip(x_values_1, y_values_1, z_values_1) for val in triplet]\n",
    "                label_2=[0]*15\n",
    "                label=label_1+label_2\n",
    "            elif same_serie==2:\n",
    "                x_values_1 = [coord['x'] for coord in label_coordinates[index_1]['coordinates']]\n",
    "                y_values_1 = [coord['y'] for coord in label_coordinates[index_1]['coordinates']]\n",
    "                z_values_1 = [coord['z'] for coord in label_coordinates[index_1]['coordinates']]\n",
    "                # Handling NaN values by imputing with the mean\n",
    "                x_values_1 = [x / total_size[j][1][0] if not np.isnan(x) else np.nanmean(x_values_1) / total_size[j][1][0] for x in x_values_1]\n",
    "                y_values_1 = [y / total_size[j][1][1] if not np.isnan(y) else np.nanmean(y_values_1) / total_size[j][1][1] for y in y_values_1]\n",
    "                z_values_1 = [z / total_size[j][1][2] if not np.isnan(z) else np.nanmean(z_values_1) / total_size[j][1][2] for z in z_values_1]\n",
    "                label_1= [val for triplet in zip(x_values_1, y_values_1, z_values_1) for val in triplet]\n",
    "                x_values_2 = [coord['x'] for coord in label_coordinates[index_2]['coordinates']]\n",
    "                y_values_2 = [coord['y'] for coord in label_coordinates[index_2]['coordinates']]\n",
    "                z_values_2 = [coord['z'] for coord in label_coordinates[index_2]['coordinates']]\n",
    "\n",
    "                # Handling NaN values by imputing with the mean\n",
    "                x_values_2 = [x / total_size[j][1][0] if not np.isnan(x) else np.nanmean(x_values_2) / total_size[j][1][0] for x in x_values_2]\n",
    "                y_values_2 = [y / total_size[j][1][1] if not np.isnan(y) else np.nanmean(y_values_2) / total_size[j][1][1]for y in y_values_2]\n",
    "                z_values_2 = [z / total_size[j][1][2] if not np.isnan(z) else np.nanmean(z_values_2) / total_size[j][1][2] for z in z_values_2]\n",
    "                label_2= [val for triplet in zip(x_values_2, y_values_2, z_values_2) for val in triplet]\n",
    "                label=label_1+label_2\n",
    "    return(label)\n",
    "\n",
    "def resize(dicom_3d,new_shape=(25, 600, 600)):\n",
    "    dicom_3d=dicom_3d.unsqueeze(0)\n",
    "    dicom_3d=dicom_3d.unsqueeze(0)\n",
    "\n",
    "    resized_tensor_trilinear = F.interpolate(dicom_3d, new_shape, mode='trilinear', align_corners=False)\n",
    "    return(resized_tensor_trilinear)\n",
    "\n",
    "\"\"\")"
   ]
  },
  {
   "cell_type": "code",
   "execution_count": 12,
   "id": "23b12256",
   "metadata": {
    "execution": {
     "iopub.execute_input": "2024-06-21T21:47:14.535742Z",
     "iopub.status.busy": "2024-06-21T21:47:14.534856Z",
     "iopub.status.idle": "2024-06-21T21:47:14.542187Z",
     "shell.execute_reply": "2024-06-21T21:47:14.540716Z"
    },
    "papermill": {
     "duration": 0.018758,
     "end_time": "2024-06-21T21:47:14.545170",
     "exception": false,
     "start_time": "2024-06-21T21:47:14.526412",
     "status": "completed"
    },
    "tags": []
   },
   "outputs": [],
   "source": [
    "def resize(dicom_3d,new_shape=(25, 600, 600)):\n",
    "    dicom_3d=dicom_3d.unsqueeze(0)\n",
    "\n",
    "    resized_tensor_trilinear = F.interpolate(dicom_3d, new_shape, mode='trilinear', align_corners=False)\n",
    "    return(resized_tensor_trilinear)"
   ]
  },
  {
   "cell_type": "code",
   "execution_count": null,
   "id": "ebf132c8",
   "metadata": {
    "execution": {
     "iopub.execute_input": "2024-06-21T17:07:01.011220Z",
     "iopub.status.busy": "2024-06-21T17:07:01.010810Z",
     "iopub.status.idle": "2024-06-21T17:07:01.018356Z",
     "shell.execute_reply": "2024-06-21T17:07:01.017165Z",
     "shell.execute_reply.started": "2024-06-21T17:07:01.011191Z"
    },
    "papermill": {
     "duration": 0.005982,
     "end_time": "2024-06-21T21:47:14.557624",
     "exception": false,
     "start_time": "2024-06-21T21:47:14.551642",
     "status": "completed"
    },
    "tags": []
   },
   "outputs": [],
   "source": []
  },
  {
   "cell_type": "code",
   "execution_count": null,
   "id": "74622ca8",
   "metadata": {
    "papermill": {
     "duration": 0.005853,
     "end_time": "2024-06-21T21:47:14.569712",
     "exception": false,
     "start_time": "2024-06-21T21:47:14.563859",
     "status": "completed"
    },
    "tags": []
   },
   "outputs": [],
   "source": []
  }
 ],
 "metadata": {
  "kaggle": {
   "accelerator": "none",
   "dataSources": [
    {
     "databundleVersionId": 8561470,
     "sourceId": 71549,
     "sourceType": "competition"
    },
    {
     "datasetId": 5248381,
     "sourceId": 8741514,
     "sourceType": "datasetVersion"
    },
    {
     "datasetId": 5248386,
     "sourceId": 8741521,
     "sourceType": "datasetVersion"
    }
   ],
   "dockerImageVersionId": 30734,
   "isGpuEnabled": false,
   "isInternetEnabled": true,
   "language": "python",
   "sourceType": "notebook"
  },
  "kernelspec": {
   "display_name": "Python 3",
   "language": "python",
   "name": "python3"
  },
  "language_info": {
   "codemirror_mode": {
    "name": "ipython",
    "version": 3
   },
   "file_extension": ".py",
   "mimetype": "text/x-python",
   "name": "python",
   "nbconvert_exporter": "python",
   "pygments_lexer": "ipython3",
   "version": "3.10.13"
  },
  "papermill": {
   "default_parameters": {},
   "duration": 33.809156,
   "end_time": "2024-06-21T21:47:15.903153",
   "environment_variables": {},
   "exception": null,
   "input_path": "__notebook__.ipynb",
   "output_path": "__notebook__.ipynb",
   "parameters": {},
   "start_time": "2024-06-21T21:46:42.093997",
   "version": "2.5.0"
  }
 },
 "nbformat": 4,
 "nbformat_minor": 5
}
