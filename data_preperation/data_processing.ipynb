{
 "cells": [
  {
   "cell_type": "code",
   "execution_count": 1,
   "id": "7154ab99",
   "metadata": {
    "_cell_guid": "b1076dfc-b9ad-4769-8c92-a6c4dae69d19",
    "_uuid": "8f2839f25d086af736a60e9eeb907d3b93b6e0e5",
    "execution": {
     "iopub.execute_input": "2024-06-19T07:46:08.233225Z",
     "iopub.status.busy": "2024-06-19T07:46:08.232812Z",
     "iopub.status.idle": "2024-06-19T07:46:35.294757Z",
     "shell.execute_reply": "2024-06-19T07:46:35.293409Z"
    },
    "papermill": {
     "duration": 27.07096,
     "end_time": "2024-06-19T07:46:35.297927",
     "exception": false,
     "start_time": "2024-06-19T07:46:08.226967",
     "status": "completed"
    },
    "tags": []
   },
   "outputs": [],
   "source": [
    "import pandas as pd\n",
    "import numpy as np\n",
    "import json\n",
    "\n",
    "\n",
    "# Load the CSV file\n",
    "file_path = '/kaggle/input/rsna-2024-lumbar-spine-degenerative-classification/train_label_coordinates.csv'\n",
    "df = pd.read_csv(file_path)\n",
    "\n",
    "# Define the required levels\n",
    "required_levels = ['L1/L2', 'L2/L3', 'L3/L4', 'L4/L5', 'L5/S1']\n",
    "\n",
    "# One-hot encode the 'condition' column\n",
    "condition_dummies = pd.get_dummies(df['condition'])\n",
    "\n",
    "# Merge the one-hot encoded columns back into the original dataframe\n",
    "df = pd.concat([df, condition_dummies], axis=1)\n",
    "\n",
    "# Group by 'series_id' and 'condition'\n",
    "grouped = df.groupby(['series_id', 'condition'])\n",
    "\n",
    "# Initialize a list to hold the dictionaries\n",
    "data_list = []\n",
    "\n",
    "# Iterate through each group and construct the dictionary\n",
    "for (series_id, condition), group in grouped:\n",
    "    coordinates = []\n",
    "    for level in required_levels:\n",
    "        level_data = group[group['level'] == level]\n",
    "        if not level_data.empty:\n",
    "            x = level_data['x'].values[0]\n",
    "            y = level_data['y'].values[0]\n",
    "            z = level_data['instance_number'].values[0]\n",
    "        else:\n",
    "            x, y, z = np.nan, np.nan, np.nan\n",
    "        coordinates.append({\"level\": level, \"x\": x, \"y\": y, \"z\": z})\n",
    "    \n",
    "\n",
    "\n",
    "    data = {\n",
    "        \"series_id\": int(series_id),  # Convert to native Python int\n",
    "        \"condition\": condition,\n",
    "        \"coordinates\": [{\"level\": coord[\"level\"], \"x\": float(coord[\"x\"]) if isinstance(coord[\"x\"], np.float64) else coord[\"x\"], \"y\": float(coord[\"y\"]) if isinstance(coord[\"y\"], np.float64) else coord[\"y\"], \"z\": float(coord[\"z\"]) if isinstance(coord[\"z\"], np.int64) else coord[\"z\"]} for coord in coordinates]  # Convert numpy types\n",
    "    }\n",
    "    data_list.append(data)\n",
    "\n"
   ]
  },
  {
   "cell_type": "code",
   "execution_count": 2,
   "id": "f4e0dea7",
   "metadata": {
    "execution": {
     "iopub.execute_input": "2024-06-19T07:46:35.307062Z",
     "iopub.status.busy": "2024-06-19T07:46:35.306644Z",
     "iopub.status.idle": "2024-06-19T07:46:35.317002Z",
     "shell.execute_reply": "2024-06-19T07:46:35.315720Z"
    },
    "papermill": {
     "duration": 0.018648,
     "end_time": "2024-06-19T07:46:35.320443",
     "exception": false,
     "start_time": "2024-06-19T07:46:35.301795",
     "status": "completed"
    },
    "tags": []
   },
   "outputs": [
    {
     "name": "stdout",
     "output_type": "stream",
     "text": [
      "{'series_id': 9334563, 'condition': 'Spinal Canal Stenosis', 'coordinates': [{'level': 'L1/L2', 'x': nan, 'y': nan, 'z': nan}, {'level': 'L2/L3', 'x': nan, 'y': nan, 'z': nan}, {'level': 'L3/L4', 'x': 415.7647593087013, 'y': 429.25688073394497, 'z': 8.0}, {'level': 'L4/L5', 'x': 435.0971323013306, 'y': 510.534375, 'z': 8.0}, {'level': 'L5/S1', 'x': 465.71588230133057, 'y': 573.103125, 'z': 8.0}]}\n"
     ]
    }
   ],
   "source": [
    "\n",
    "filtered_list = [item for item in data_list if item['series_id'] == 9334563]\n",
    "\n",
    "# If you expect only one result and want to retrieve the first match\n",
    "if filtered_list:\n",
    "    result = filtered_list[0]\n",
    "    print(result)\n",
    "else:\n",
    "    print(\"No entry with series_id 9334563 found.\")"
   ]
  },
  {
   "cell_type": "code",
   "execution_count": 3,
   "id": "a3dbcd89",
   "metadata": {
    "execution": {
     "iopub.execute_input": "2024-06-19T07:46:35.330462Z",
     "iopub.status.busy": "2024-06-19T07:46:35.329282Z",
     "iopub.status.idle": "2024-06-19T07:46:35.339714Z",
     "shell.execute_reply": "2024-06-19T07:46:35.338488Z"
    },
    "papermill": {
     "duration": 0.018247,
     "end_time": "2024-06-19T07:46:35.342437",
     "exception": false,
     "start_time": "2024-06-19T07:46:35.324190",
     "status": "completed"
    },
    "tags": []
   },
   "outputs": [],
   "source": [
    "filtered_data = [\n",
    "    entry for entry in data_list \n",
    "    if not (entry[\"series_id\"] == 3951475160 and entry[\"condition\"] == \"Spinal Canal Stenosis\")\n",
    "]\n"
   ]
  },
  {
   "cell_type": "code",
   "execution_count": 4,
   "id": "4696a010",
   "metadata": {
    "execution": {
     "iopub.execute_input": "2024-06-19T07:46:35.352925Z",
     "iopub.status.busy": "2024-06-19T07:46:35.351208Z",
     "iopub.status.idle": "2024-06-19T07:46:35.357545Z",
     "shell.execute_reply": "2024-06-19T07:46:35.356317Z"
    },
    "papermill": {
     "duration": 0.014177,
     "end_time": "2024-06-19T07:46:35.360296",
     "exception": false,
     "start_time": "2024-06-19T07:46:35.346119",
     "status": "completed"
    },
    "tags": []
   },
   "outputs": [],
   "source": [
    "data_list=filtered_data"
   ]
  },
  {
   "cell_type": "code",
   "execution_count": 5,
   "id": "cf689e1b",
   "metadata": {
    "execution": {
     "iopub.execute_input": "2024-06-19T07:46:35.369536Z",
     "iopub.status.busy": "2024-06-19T07:46:35.369083Z",
     "iopub.status.idle": "2024-06-19T07:46:36.520683Z",
     "shell.execute_reply": "2024-06-19T07:46:36.519432Z"
    },
    "papermill": {
     "duration": 1.159588,
     "end_time": "2024-06-19T07:46:36.523648",
     "exception": false,
     "start_time": "2024-06-19T07:46:35.364060",
     "status": "completed"
    },
    "tags": []
   },
   "outputs": [
    {
     "data": {
      "text/plain": [
       "'/kaggle/working/json_label_coordinates.json'"
      ]
     },
     "execution_count": 5,
     "metadata": {},
     "output_type": "execute_result"
    }
   ],
   "source": [
    "#Save the data list as JSON\n",
    "output_path = '/kaggle/working/json_label_coordinates.json'\n",
    "with open(output_path, 'w') as f:\n",
    "    json.dump(data_list, f, indent=4)\n",
    "    \n",
    "output_path"
   ]
  },
  {
   "cell_type": "code",
   "execution_count": null,
   "id": "134d9205",
   "metadata": {
    "execution": {
     "iopub.execute_input": "2024-06-19T07:40:08.733912Z",
     "iopub.status.busy": "2024-06-19T07:40:08.733470Z",
     "iopub.status.idle": "2024-06-19T07:40:08.740441Z",
     "shell.execute_reply": "2024-06-19T07:40:08.739335Z",
     "shell.execute_reply.started": "2024-06-19T07:40:08.733874Z"
    },
    "papermill": {
     "duration": 0.003505,
     "end_time": "2024-06-19T07:46:36.531141",
     "exception": false,
     "start_time": "2024-06-19T07:46:36.527636",
     "status": "completed"
    },
    "tags": []
   },
   "outputs": [],
   "source": []
  },
  {
   "cell_type": "code",
   "execution_count": null,
   "id": "2e86eb07",
   "metadata": {
    "papermill": {
     "duration": 0.003409,
     "end_time": "2024-06-19T07:46:36.538338",
     "exception": false,
     "start_time": "2024-06-19T07:46:36.534929",
     "status": "completed"
    },
    "tags": []
   },
   "outputs": [],
   "source": []
  }
 ],
 "metadata": {
  "kaggle": {
   "accelerator": "none",
   "dataSources": [
    {
     "databundleVersionId": 8561470,
     "sourceId": 71549,
     "sourceType": "competition"
    }
   ],
   "dockerImageVersionId": 30732,
   "isGpuEnabled": false,
   "isInternetEnabled": true,
   "language": "python",
   "sourceType": "notebook"
  },
  "kernelspec": {
   "display_name": "Python 3",
   "language": "python",
   "name": "python3"
  },
  "language_info": {
   "codemirror_mode": {
    "name": "ipython",
    "version": 3
   },
   "file_extension": ".py",
   "mimetype": "text/x-python",
   "name": "python",
   "nbconvert_exporter": "python",
   "pygments_lexer": "ipython3",
   "version": "3.10.13"
  },
  "papermill": {
   "default_parameters": {},
   "duration": 31.937476,
   "end_time": "2024-06-19T07:46:37.063902",
   "environment_variables": {},
   "exception": null,
   "input_path": "__notebook__.ipynb",
   "output_path": "__notebook__.ipynb",
   "parameters": {},
   "start_time": "2024-06-19T07:46:05.126426",
   "version": "2.5.0"
  }
 },
 "nbformat": 4,
 "nbformat_minor": 5
}
